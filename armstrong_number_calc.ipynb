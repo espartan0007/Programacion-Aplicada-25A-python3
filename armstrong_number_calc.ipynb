{
  "nbformat": 4,
  "nbformat_minor": 0,
  "metadata": {
    "colab": {
      "provenance": [],
      "authorship_tag": "ABX9TyO3EC3+3bO5l3q0aN8vyFZ+",
      "include_colab_link": true
    },
    "kernelspec": {
      "name": "python3",
      "display_name": "Python 3"
    },
    "language_info": {
      "name": "python"
    }
  },
  "cells": [
    {
      "cell_type": "markdown",
      "metadata": {
        "id": "view-in-github",
        "colab_type": "text"
      },
      "source": [
        "<a href=\"https://colab.research.google.com/github/espartan0007/Programacion-Aplicada-25A-python3/blob/main/armstrong_number_calc.ipynb\" target=\"_parent\"><img src=\"https://colab.research.google.com/assets/colab-badge.svg\" alt=\"Open In Colab\"/></a>"
      ]
    },
    {
      "cell_type": "markdown",
      "source": [
        "Un número de Armstrong es un número que es igual a la suma de los cubos de sus dígitos. Es una propiedad matemática autodescriptiva que se utiliza en programación y acertijos matemáticos.\n",
        "Ejemplos de números de Armstrong\n",
        "0, 1, 153, 370, 371, 407.\n",
        "Cómo se calcula un número de Armstrong\n",
        "Para calcular un número de Armstrong, se suman los dígitos del número, cada uno elevado a la potencia del número de dígitos. Por ejemplo, 153 es un número de Armstrong porque 1^3 + 5^3 + 3^3 es igual a 153."
      ],
      "metadata": {
        "id": "6hskzg-rW3nl"
      }
    },
    {
      "cell_type": "code",
      "execution_count": null,
      "metadata": {
        "colab": {
          "base_uri": "https://localhost:8080/"
        },
        "id": "14H6l29-WE2w",
        "outputId": "d9354030-8ac5-4edd-b202-72452d403bf4"
      },
      "outputs": [
        {
          "output_type": "stream",
          "name": "stdout",
          "text": [
            "Escribe tu numero de Armstrong153\n",
            "153\n"
          ]
        }
      ],
      "source": [
        "val=input(\"Escribe tu numero de Armstrong\")\n",
        "pt=len(val)\n",
        "ac=0\n",
        "for i in val:\n",
        "    #print(i)\n",
        "    ac=ac+int(i)**pt\n",
        "    #print(ac)\n",
        "\n",
        "print(ac)"
      ]
    },
    {
      "cell_type": "code",
      "source": [
        "def armstrong(v):\n",
        "  pt=len(val)\n",
        "  ac=0\n",
        "  for i in val:\n",
        "      ac=ac+int(i)**pt\n",
        "  return ac\n",
        "\n",
        "# FUNCION PRINCIPAL O MAIN\n",
        "val=input(\"Escribe tu numero de Armstrong\")\n",
        "ac=armstrong(val)\n",
        "\n",
        "print(\"Resulta que el \",val,\" es  un numero de Armstrong ....\",int(val)==ac)"
      ],
      "metadata": {
        "colab": {
          "base_uri": "https://localhost:8080/"
        },
        "id": "TW7OuK52Yc78",
        "outputId": "074dab69-8d1c-446f-ff31-5f6492bc4f11"
      },
      "execution_count": null,
      "outputs": [
        {
          "output_type": "stream",
          "name": "stdout",
          "text": [
            "Escribe tu numero de Armstrong153\n",
            "Resulta que el  153  es  un numero de Armstrong .... True\n"
          ]
        }
      ]
    },
    {
      "cell_type": "markdown",
      "source": [
        "Diseñe y codifique un programa que verifique los numero comprendidos entre 1000 y 2000 si es que cumplen o no con ser numero de Armstrong.Imprimir en pantalla los resultados."
      ],
      "metadata": {
        "id": "JH4KNnt4Zucw"
      }
    },
    {
      "cell_type": "code",
      "source": [
        "def Is_armstrong(v):\n",
        "  pt=len(val)\n",
        "  ac=0\n",
        "  for i in val:\n",
        "      ac=ac+int(i)**pt\n",
        "  return int(v)==ac\n",
        "\n",
        "# FUNCION PRINCIPAL O MAIN\n",
        "inic=100\n",
        "fin=2000\n",
        "\n",
        "lista=[]\n",
        "for i in range(inic,fin+1):\n",
        "  val=str(i)\n",
        "  Res=Is_armstrong(val)\n",
        "  if Res==True:\n",
        "    print(\"Resulta que el \",val,\" es  un numero de Armstrong ....\",Res)\n",
        "    lista.append(val)\n",
        "print(\"\\n Los valores de Armstrong de\",inic,\" hasta \",fin,\"  son: \")\n",
        "for i in lista:\n",
        "  print(i)"
      ],
      "metadata": {
        "colab": {
          "base_uri": "https://localhost:8080/"
        },
        "id": "QduqIrCHZm0Z",
        "outputId": "465ae937-7198-4348-886b-d4969f2ce2c6"
      },
      "execution_count": null,
      "outputs": [
        {
          "output_type": "stream",
          "name": "stdout",
          "text": [
            "Resulta que el  153  es  un numero de Armstrong .... True\n",
            "Resulta que el  370  es  un numero de Armstrong .... True\n",
            "Resulta que el  371  es  un numero de Armstrong .... True\n",
            "Resulta que el  407  es  un numero de Armstrong .... True\n",
            "Resulta que el  1634  es  un numero de Armstrong .... True\n",
            "\n",
            " los valores de Armstrong de 100  hasta  2000   son: \n",
            "153\n",
            "370\n",
            "371\n",
            "407\n",
            "1634\n"
          ]
        }
      ]
    },
    {
      "cell_type": "code",
      "source": [
        "# Save to files\n",
        "filename = \"formal.txt\"\n",
        "\n",
        "def Is_armstrong(v):\n",
        "  pt=len(val)\n",
        "  ac=0\n",
        "  for i in val:\n",
        "      ac=ac+int(i)**pt\n",
        "  return int(v)==ac\n",
        "\n",
        "# FUNCION PRINCIPAL O MAIN\n",
        "inic=100\n",
        "fin=2000\n",
        "\n",
        "lista=[]\n",
        "for i in range(inic,fin+1):\n",
        "  val=str(i)\n",
        "  Res=Is_armstrong(val)\n",
        "  if Res==True:\n",
        "    print(\"Resulta que el \",val,\" es  un numero de Armstrong ....\",Res)\n",
        "    lista.append(val)\n",
        "print(\"\\n Los valores de Armstrong de\",inic,\" hasta \",fin,\"  son: \")\n",
        "\n",
        "with open(filename, 'a') as file:\n",
        "  for x in lista:\n",
        "    print(x)\n",
        "    file.write(str(x)+\"\\n\" )"
      ],
      "metadata": {
        "id": "5wuVXtK_cdpA",
        "colab": {
          "base_uri": "https://localhost:8080/"
        },
        "outputId": "6fcaeda7-6ee4-46cf-83ba-ebad77381f09"
      },
      "execution_count": 15,
      "outputs": [
        {
          "output_type": "stream",
          "name": "stdout",
          "text": [
            "Resulta que el  153  es  un numero de Armstrong .... True\n",
            "Resulta que el  370  es  un numero de Armstrong .... True\n",
            "Resulta que el  371  es  un numero de Armstrong .... True\n",
            "Resulta que el  407  es  un numero de Armstrong .... True\n",
            "Resulta que el  1634  es  un numero de Armstrong .... True\n",
            "\n",
            " Los valores de Armstrong de 100  hasta  2000   son: \n",
            "153\n",
            "370\n",
            "371\n",
            "407\n",
            "1634\n"
          ]
        }
      ]
    },
    {
      "cell_type": "markdown",
      "source": [
        "Diseñe y codifique un programa que imprima la tabla de multiplicar del N hasta el Multiplo T\n",
        "N x 1= N*1\n",
        "N...\n",
        "N...\n",
        "N x T = N*T\n",
        "\n",
        "Los valores se deben imprimir y guardar en un archivo de texto.Solamente se puede usar FOR para la iteracion.\n",
        "\n",
        "\n"
      ],
      "metadata": {
        "id": "EVCB8DBZdVUV"
      }
    }
  ]
}