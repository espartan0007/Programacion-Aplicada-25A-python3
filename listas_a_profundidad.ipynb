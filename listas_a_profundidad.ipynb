{
  "nbformat": 4,
  "nbformat_minor": 0,
  "metadata": {
    "colab": {
      "provenance": [],
      "authorship_tag": "ABX9TyOlenocwgO5iyJgwY2/0bap",
      "include_colab_link": true
    },
    "kernelspec": {
      "name": "python3",
      "display_name": "Python 3"
    },
    "language_info": {
      "name": "python"
    }
  },
  "cells": [
    {
      "cell_type": "markdown",
      "metadata": {
        "id": "view-in-github",
        "colab_type": "text"
      },
      "source": [
        "<a href=\"https://colab.research.google.com/github/espartan0007/Programacion-Aplicada-25A-python3/blob/main/listas_a_profundidad.ipynb\" target=\"_parent\"><img src=\"https://colab.research.google.com/assets/colab-badge.svg\" alt=\"Open In Colab\"/></a>"
      ]
    },
    {
      "cell_type": "markdown",
      "source": [
        "\n",
        "\n",
        "\n",
        "```\n",
        "append()\tAdds an element at the end of the list\n",
        "clear()\tRemoves all the elements from the list\n",
        "copy()\tReturns a copy of the list\n",
        "count()\tReturns the number of elements with the specified value\n",
        "extend()\tAdd the elements of a list (or any iterable), to the end of the current list\n",
        "index()\tReturns the index of the first element with the specified value\n",
        "insert()\tAdds an element at the specified position\n",
        "pop()\tRemoves the element at the specified position\n",
        "remove()\tRemoves the first item with the specified value\n",
        "reverse()\tReverses the order of the list\n",
        "sort()\tSorts the list\n",
        "```\n",
        "\n",
        "https://www.w3schools.com/python/python_ref_list.asp"
      ],
      "metadata": {
        "id": "msMFQuW2swAU"
      }
    },
    {
      "cell_type": "code",
      "execution_count": 1,
      "metadata": {
        "colab": {
          "base_uri": "https://localhost:8080/"
        },
        "id": "3CfCEvKNscdu",
        "outputId": "4b77afac-9744-45bb-80d3-f5b422785465"
      },
      "outputs": [
        {
          "output_type": "stream",
          "name": "stdout",
          "text": [
            "['a', 'b', 'c', 'Algo']\n"
          ]
        }
      ],
      "source": [
        "list1 = [\"a\", \"b\" , \"c\"]\n",
        "list2 = \"Algo\"\n",
        "\n",
        "list1.append(list2) # se anexo list2 a list1\n",
        "print(list1)"
      ]
    },
    {
      "cell_type": "code",
      "source": [
        "list1 = [\"a\", \"b\" , \"c\"]\n",
        "\n",
        "list1.clear() # se anexo list2 a list1\n",
        "print(list1)"
      ],
      "metadata": {
        "colab": {
          "base_uri": "https://localhost:8080/"
        },
        "id": "t-LGgdyTuof8",
        "outputId": "7c495d4d-7aec-43b2-eb6a-a6b0a7469e3b"
      },
      "execution_count": 2,
      "outputs": [
        {
          "output_type": "stream",
          "name": "stdout",
          "text": [
            "[]\n"
          ]
        }
      ]
    },
    {
      "cell_type": "code",
      "source": [
        "list1 = [\"a\", \"b\" , \"c\"]\n",
        "\n",
        "\n",
        "list2=list1.copy() # copia de list1\n",
        "print(list1)\n",
        "print(list2)"
      ],
      "metadata": {
        "colab": {
          "base_uri": "https://localhost:8080/"
        },
        "id": "SbLh0998usno",
        "outputId": "0906ab4a-681c-4961-b064-6976999389c2"
      },
      "execution_count": 4,
      "outputs": [
        {
          "output_type": "stream",
          "name": "stdout",
          "text": [
            "['a', 'b', 'c']\n",
            "['a', 'b', 'c']\n"
          ]
        }
      ]
    },
    {
      "cell_type": "code",
      "source": [
        "list1 = [\"a\", \"b\" , \"c\",\"@\",\"@\",\"@\",\"@\"]\n",
        "res=list1.count(\"@\")\n",
        "print(res)"
      ],
      "metadata": {
        "colab": {
          "base_uri": "https://localhost:8080/"
        },
        "id": "AJ6hBHnWu-ab",
        "outputId": "5d138c03-7768-47d4-ec94-ff1cbd3f91fb"
      },
      "execution_count": 7,
      "outputs": [
        {
          "output_type": "stream",
          "name": "stdout",
          "text": [
            "4\n"
          ]
        }
      ]
    },
    {
      "cell_type": "code",
      "source": [
        "list1 = [\"a\", \"b\" , \"c\",\"@\",\"@\",\"@\",\"@\"]\n",
        "list2 = \"Algo\"\n",
        "\n",
        "list1.extend(list2)\n",
        "print(list1)"
      ],
      "metadata": {
        "colab": {
          "base_uri": "https://localhost:8080/"
        },
        "id": "ii66VFHIvS6c",
        "outputId": "bc7508b0-5513-4a5b-f734-a3108a394632"
      },
      "execution_count": 10,
      "outputs": [
        {
          "output_type": "stream",
          "name": "stdout",
          "text": [
            "['a', 'b', 'c', '@', '@', '@', '@', 'A', 'l', 'g', 'o']\n"
          ]
        }
      ]
    },
    {
      "cell_type": "code",
      "source": [
        "list1 = [\"a\", \"b\" , \"c\",\"@\",\"2\",\"6\",\"@\"]\n",
        "res=list1.index(\"@\")\n",
        "res1=list1.index(\"@\",4)\n",
        "print(res)\n",
        "print(res1)"
      ],
      "metadata": {
        "colab": {
          "base_uri": "https://localhost:8080/"
        },
        "id": "4ePG2hJTv5UP",
        "outputId": "04d223cb-d2a9-4ad0-ed9e-5ccecedea7df"
      },
      "execution_count": 16,
      "outputs": [
        {
          "output_type": "stream",
          "name": "stdout",
          "text": [
            "3\n",
            "6\n"
          ]
        }
      ]
    },
    {
      "cell_type": "code",
      "source": [
        "list1 = [\"a\", \"b\" , \"c\",\"@\",\"2\",\"6\",\"@\"]\n",
        "res=list1.remove(\"@\")\n",
        "\n",
        "print(list1)"
      ],
      "metadata": {
        "colab": {
          "base_uri": "https://localhost:8080/",
          "height": 211
        },
        "id": "7cLBAJDiwQK7",
        "outputId": "9bbc2836-7053-4a78-da27-0e6aa3250350"
      },
      "execution_count": 21,
      "outputs": [
        {
          "output_type": "error",
          "ename": "TypeError",
          "evalue": "list.remove() takes exactly one argument (2 given)",
          "traceback": [
            "\u001b[0;31m---------------------------------------------------------------------------\u001b[0m",
            "\u001b[0;31mTypeError\u001b[0m                                 Traceback (most recent call last)",
            "\u001b[0;32m<ipython-input-21-7ef5d6e1cbaf>\u001b[0m in \u001b[0;36m<cell line: 0>\u001b[0;34m()\u001b[0m\n\u001b[1;32m      1\u001b[0m \u001b[0mlist1\u001b[0m \u001b[0;34m=\u001b[0m \u001b[0;34m[\u001b[0m\u001b[0;34m\"a\"\u001b[0m\u001b[0;34m,\u001b[0m \u001b[0;34m\"b\"\u001b[0m \u001b[0;34m,\u001b[0m \u001b[0;34m\"c\"\u001b[0m\u001b[0;34m,\u001b[0m\u001b[0;34m\"@\"\u001b[0m\u001b[0;34m,\u001b[0m\u001b[0;34m\"2\"\u001b[0m\u001b[0;34m,\u001b[0m\u001b[0;34m\"6\"\u001b[0m\u001b[0;34m,\u001b[0m\u001b[0;34m\"@\"\u001b[0m\u001b[0;34m]\u001b[0m\u001b[0;34m\u001b[0m\u001b[0;34m\u001b[0m\u001b[0m\n\u001b[0;32m----> 2\u001b[0;31m \u001b[0mres\u001b[0m\u001b[0;34m=\u001b[0m\u001b[0mlist1\u001b[0m\u001b[0;34m.\u001b[0m\u001b[0mremove\u001b[0m\u001b[0;34m(\u001b[0m\u001b[0;34m\"@\"\u001b[0m\u001b[0;34m,\u001b[0m\u001b[0;36m4\u001b[0m\u001b[0;34m)\u001b[0m\u001b[0;34m\u001b[0m\u001b[0;34m\u001b[0m\u001b[0m\n\u001b[0m\u001b[1;32m      3\u001b[0m \u001b[0;34m\u001b[0m\u001b[0m\n\u001b[1;32m      4\u001b[0m \u001b[0;31m#res1=list1.index(\"@\",4)\u001b[0m\u001b[0;34m\u001b[0m\u001b[0;34m\u001b[0m\u001b[0m\n\u001b[1;32m      5\u001b[0m \u001b[0mprint\u001b[0m\u001b[0;34m(\u001b[0m\u001b[0mlist1\u001b[0m\u001b[0;34m)\u001b[0m\u001b[0;34m\u001b[0m\u001b[0;34m\u001b[0m\u001b[0m\n",
            "\u001b[0;31mTypeError\u001b[0m: list.remove() takes exactly one argument (2 given)"
          ]
        }
      ]
    },
    {
      "cell_type": "code",
      "source": [
        "list1 = [\"a\", \"b\" , \"c\",\"@\",\"2\",\"6\",\"@\"]\n",
        "#         0     1    2   3   4   5    6\n",
        "res=list1.insert(6,\"!rrtrtr\")\n",
        "\n",
        "print(list1)"
      ],
      "metadata": {
        "colab": {
          "base_uri": "https://localhost:8080/"
        },
        "id": "lpkHsUS_w2cK",
        "outputId": "4dd32e84-11bf-4810-ed80-fabc263facb8"
      },
      "execution_count": 25,
      "outputs": [
        {
          "output_type": "stream",
          "name": "stdout",
          "text": [
            "['a', 'b', 'c', '@', '2', '6', '!rrtrtr', '@']\n"
          ]
        }
      ]
    },
    {
      "cell_type": "code",
      "source": [
        "list1 = [\"a\", \"b\" , \"c\",\"@\",\"2\",\"6\",\"@\"]\n",
        "#         0     1    2   3   4   5    6\n",
        "res=list1.pop()\n",
        "\n",
        "print(list1)\n",
        "print(res)"
      ],
      "metadata": {
        "colab": {
          "base_uri": "https://localhost:8080/"
        },
        "id": "xF_2zXqIxg6q",
        "outputId": "1123d648-5ae8-47a4-e438-870d3ea77c57"
      },
      "execution_count": 26,
      "outputs": [
        {
          "output_type": "stream",
          "name": "stdout",
          "text": [
            "['a', 'b', 'c', '@', '2', '6']\n",
            "@\n"
          ]
        }
      ]
    },
    {
      "cell_type": "code",
      "source": [
        "list1 = [\"a\", \"b\" , \"c\",\"@\",\"2\",\"6\",\"@\"]\n",
        "#         0     1    2   3   4   5    6\n",
        "list1.pop()\n",
        "\n",
        "print(list1)"
      ],
      "metadata": {
        "colab": {
          "base_uri": "https://localhost:8080/"
        },
        "id": "j_zw5YjZxsV5",
        "outputId": "1f1f92fa-553a-449b-d174-2b8dd10e8574"
      },
      "execution_count": 27,
      "outputs": [
        {
          "output_type": "stream",
          "name": "stdout",
          "text": [
            "['a', 'b', 'c', '@', '2', '6']\n"
          ]
        }
      ]
    },
    {
      "cell_type": "code",
      "source": [
        "list1 = [\"a\", \"b\" , \"c\",\"@\",\"2\",\"6\",\"@\"]\n",
        "#         0     1    2   3   4   5    6\n",
        "res=list1.pop(3)\n",
        "\n",
        "print(list1)\n",
        "print(res)"
      ],
      "metadata": {
        "colab": {
          "base_uri": "https://localhost:8080/"
        },
        "id": "dIz_i1Pkxzwi",
        "outputId": "e0547e58-690a-4e0c-b68d-ea869d0b99da"
      },
      "execution_count": 28,
      "outputs": [
        {
          "output_type": "stream",
          "name": "stdout",
          "text": [
            "['a', 'b', 'c', '2', '6', '@']\n",
            "@\n"
          ]
        }
      ]
    },
    {
      "cell_type": "code",
      "source": [
        "list1 = [\"a\", \"b\" , \"c\",\"@\",\"2\",\"6\",\"@\"]\n",
        "#         0     1    2   3   4   5    6\n",
        "print(list1)\n",
        "\n",
        "res=list1.reverse()\n",
        "\n",
        "print(list1)"
      ],
      "metadata": {
        "colab": {
          "base_uri": "https://localhost:8080/"
        },
        "id": "0XfWUDoox9NZ",
        "outputId": "4b195d73-5279-4d9c-c409-3a696ef3f6f4"
      },
      "execution_count": 30,
      "outputs": [
        {
          "output_type": "stream",
          "name": "stdout",
          "text": [
            "['a', 'b', 'c', '@', '2', '6', '@']\n",
            "['@', '6', '2', '@', 'c', 'b', 'a']\n"
          ]
        }
      ]
    },
    {
      "cell_type": "code",
      "source": [
        "list1 = [\"a\", \"b\" , \"c\",\"@\",\"2\",\"6\",\"@\"]\n",
        "#         0     1    2   3   4   5    6\n",
        "print(list1)\n",
        "\n",
        "res=list1.sort()\n",
        "\n",
        "print(list1)"
      ],
      "metadata": {
        "colab": {
          "base_uri": "https://localhost:8080/"
        },
        "id": "Qv4iylqRyHog",
        "outputId": "51b93bbe-7b83-4319-c807-b1de2e6b637c"
      },
      "execution_count": 31,
      "outputs": [
        {
          "output_type": "stream",
          "name": "stdout",
          "text": [
            "['a', 'b', 'c', '@', '2', '6', '@']\n",
            "['2', '6', '@', '@', 'a', 'b', 'c']\n"
          ]
        }
      ]
    },
    {
      "cell_type": "code",
      "source": [
        "list1 = [\"a\", \"b\" , \"c\",\"@\",\"2\",\"6\",\"@\"]\n",
        "#         0     1    2   3   4   5    6\n",
        "print(list1)\n",
        "\n",
        "res=list1.sort(reverse=True)\n",
        "\n",
        "print(list1)"
      ],
      "metadata": {
        "colab": {
          "base_uri": "https://localhost:8080/"
        },
        "id": "Dx3OeIXgyrLs",
        "outputId": "34934bf6-3897-4bfd-e924-26b0e244caa4"
      },
      "execution_count": 32,
      "outputs": [
        {
          "output_type": "stream",
          "name": "stdout",
          "text": [
            "['a', 'b', 'c', '@', '2', '6', '@']\n",
            "['c', 'b', 'a', '@', '@', '6', '2']\n"
          ]
        }
      ]
    },
    {
      "cell_type": "markdown",
      "source": [
        "Disee y codifique en python 3.x un programa que gestione un TO-DO-LIST.\n",
        "Las funciones que debe tener son:\n",
        "```\n",
        "Borrar lista de pendientes,\n",
        "reasignar una nueva Tarea Secundaria,\n",
        "Asignar una nueva tarea primaria,\n",
        "Eliminar una tarea ya completada.\n",
        "```\n",
        "*Haga cualquier cosa que mejore la estetica o funcionalidad"
      ],
      "metadata": {
        "id": "27IVdjkrzI6q"
      }
    },
    {
      "cell_type": "code",
      "source": [
        "txt=\"\"\"\n",
        "5. Borrar lista de pendientes,\n",
        "1. Reasignar una nueva Tarea Secundaria,\n",
        "4. Asignar una nueva tarea primaria,\n",
        "2. Eliminar una tarea ya completada.\n",
        "3. Imprimir Lista de tareas\n",
        "6. Salir\n",
        "\"\"\"\n",
        "li=[] #Lista de pendientes vacia\n",
        "\n",
        "while True:\n",
        "  print(txt)\n",
        "  opc=input(\"Ingrese una opcion: \")\n",
        "  match opc:\n",
        "\n",
        "    case \"1\":\n",
        "      li.append(input(\"Ingrese una tarea: \"))\n",
        "    case \"2\":\n",
        "      c=int(input(\"Ingrese la posicion de la tarea a borrar: \"))\n",
        "      li.pop(c-1)\n",
        "    case \"3\":#imprimir Lista de tareas\n",
        "      #print(li)\n",
        "      for x in li:\n",
        "        print(x)\n",
        "    case \"4\":\n",
        "      tar1= input(\"Ingrese una tarea: \")\n",
        "      li.insert(0,tar1)\n",
        "    case \"5\":\n",
        "      print(\"Terminaste por el dia de hoy :|\")\n",
        "      li.clear()\n",
        "\n",
        "    case \"6\":\n",
        "      print(\"Adios\")\n",
        "      break\n"
      ],
      "metadata": {
        "colab": {
          "base_uri": "https://localhost:8080/"
        },
        "id": "D1rzcMXbzIJf",
        "outputId": "5598a045-0a41-4faf-86fc-197ec367b5df"
      },
      "execution_count": 39,
      "outputs": [
        {
          "output_type": "stream",
          "name": "stdout",
          "text": [
            "\n",
            "5. Borrar lista de pendientes,\n",
            "1. Reasignar una nueva Tarea Secundaria,\n",
            "4. Asignar una nueva tarea primaria,\n",
            "2. Eliminar una tarea ya completada.\n",
            "3. Imprimir Lista de tareas\n",
            "\n",
            "Ingrese una opcion: 1\n",
            "Ingrese una tarea: Estudiar\n",
            "\n",
            "5. Borrar lista de pendientes,\n",
            "1. Reasignar una nueva Tarea Secundaria,\n",
            "4. Asignar una nueva tarea primaria,\n",
            "2. Eliminar una tarea ya completada.\n",
            "3. Imprimir Lista de tareas\n",
            "\n",
            "Ingrese una opcion: 4\n",
            "Ingrese una tarea: Inscribirme en clases de ingles\n",
            "\n",
            "5. Borrar lista de pendientes,\n",
            "1. Reasignar una nueva Tarea Secundaria,\n",
            "4. Asignar una nueva tarea primaria,\n",
            "2. Eliminar una tarea ya completada.\n",
            "3. Imprimir Lista de tareas\n",
            "\n",
            "Ingrese una opcion: 3\n",
            "Inscribirme en clases de ingles\n",
            "Estudiar\n",
            "\n",
            "5. Borrar lista de pendientes,\n",
            "1. Reasignar una nueva Tarea Secundaria,\n",
            "4. Asignar una nueva tarea primaria,\n",
            "2. Eliminar una tarea ya completada.\n",
            "3. Imprimir Lista de tareas\n",
            "\n",
            "Ingrese una opcion: 5\n",
            "Terminaste por el dia de hoy :|\n",
            "\n",
            "5. Borrar lista de pendientes,\n",
            "1. Reasignar una nueva Tarea Secundaria,\n",
            "4. Asignar una nueva tarea primaria,\n",
            "2. Eliminar una tarea ya completada.\n",
            "3. Imprimir Lista de tareas\n",
            "\n",
            "Ingrese una opcion: 3\n",
            "\n",
            "5. Borrar lista de pendientes,\n",
            "1. Reasignar una nueva Tarea Secundaria,\n",
            "4. Asignar una nueva tarea primaria,\n",
            "2. Eliminar una tarea ya completada.\n",
            "3. Imprimir Lista de tareas\n",
            "\n",
            "Ingrese una opcion: 6\n",
            "Adios\n"
          ]
        }
      ]
    }
  ]
}