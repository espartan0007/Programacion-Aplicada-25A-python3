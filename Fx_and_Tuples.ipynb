{
  "nbformat": 4,
  "nbformat_minor": 0,
  "metadata": {
    "colab": {
      "provenance": [],
      "authorship_tag": "ABX9TyOHIkc1aovG4l7xwP7fKbq4",
      "include_colab_link": true
    },
    "kernelspec": {
      "name": "python3",
      "display_name": "Python 3"
    },
    "language_info": {
      "name": "python"
    }
  },
  "cells": [
    {
      "cell_type": "markdown",
      "metadata": {
        "id": "view-in-github",
        "colab_type": "text"
      },
      "source": [
        "<a href=\"https://colab.research.google.com/github/espartan0007/Programacion-Aplicada-25A-python3/blob/main/Fx_and_Tuples.ipynb\" target=\"_parent\"><img src=\"https://colab.research.google.com/assets/colab-badge.svg\" alt=\"Open In Colab\"/></a>"
      ]
    },
    {
      "cell_type": "code",
      "execution_count": 2,
      "metadata": {
        "colab": {
          "base_uri": "https://localhost:8080/"
        },
        "id": "-K7gGSvmkgzl",
        "outputId": "2376c337-03c8-4845-a548-11ef9968b782"
      },
      "outputs": [
        {
          "output_type": "stream",
          "name": "stdout",
          "text": [
            "100\n"
          ]
        }
      ],
      "source": [
        "# Antecedentes\n",
        "from random import randint, random\n",
        "\n",
        "def function_AVG(a):\n",
        "  return a**2\n",
        "\n",
        "#main\n",
        "\n",
        "q=function_AVG(10)\n",
        "print(q)\n",
        "\n",
        "\n"
      ]
    },
    {
      "cell_type": "code",
      "source": [
        "#tupla:  lista inmutable\n",
        "tp=(1,2,3)\n",
        "print(tp)\n",
        "\n",
        "print(tp[1])"
      ],
      "metadata": {
        "colab": {
          "base_uri": "https://localhost:8080/"
        },
        "id": "SEdLYpi5lpB_",
        "outputId": "d36f6b14-75ff-4770-9149-d0846fb78190"
      },
      "execution_count": 4,
      "outputs": [
        {
          "output_type": "stream",
          "name": "stdout",
          "text": [
            "(1, 2, 3)\n",
            "2\n"
          ]
        }
      ]
    },
    {
      "cell_type": "code",
      "source": [
        "# Antecedentes\n",
        "from random import randint, random\n",
        "\n",
        "def function_AVG(a,b,c,d):\n",
        "  return a**2,b**2,c**2,d**2\n",
        "\n",
        "#main\n",
        "\n",
        "aa,bb,cc,dd= randint(1,10),randint(1,10),randint(1,10),randint(1,10)\n",
        "print(aa,bb,cc,dd)\n",
        "q,w,e,r=function_AVG(aa,bb,cc,dd)\n",
        "\n",
        "print(q,w,e,r)\n",
        "\n",
        "\n"
      ],
      "metadata": {
        "colab": {
          "base_uri": "https://localhost:8080/"
        },
        "id": "I8q9TdbomES1",
        "outputId": "c3172dad-7266-49e5-fe97-2c472b0c8560"
      },
      "execution_count": 6,
      "outputs": [
        {
          "output_type": "stream",
          "name": "stdout",
          "text": [
            "2 2 7 6\n",
            "4 4 49 36\n"
          ]
        }
      ]
    },
    {
      "cell_type": "code",
      "source": [
        "# Antecedentes\n",
        "from random import randint, random\n",
        "def function_AVG(a,b,c,d):\n",
        "  return (a**2,b**2,c**2,d**2)\n",
        "\n",
        "#main\n",
        "aa,bb,cc,dd= randint(1,10),randint(1,10),randint(1,10),randint(1,10)\n",
        "print(aa,bb,cc,dd)\n",
        "tp=function_AVG(aa,bb,cc,dd)\n",
        "\n",
        "for i in tp:\n",
        "  print(i)"
      ],
      "metadata": {
        "colab": {
          "base_uri": "https://localhost:8080/"
        },
        "id": "mAlVdqsfmwHQ",
        "outputId": "a9d72415-f831-4856-d5d6-c4fb5f9b2b84"
      },
      "execution_count": 8,
      "outputs": [
        {
          "output_type": "stream",
          "name": "stdout",
          "text": [
            "1 9 7 7\n",
            "1\n",
            "81\n",
            "49\n",
            "49\n"
          ]
        }
      ]
    },
    {
      "cell_type": "markdown",
      "source": [
        "Diseñe y codifique un algoritmo que procese valores aleatorios a los que se les aplicaran ciertas operaciones el resultado final se regresara en una tupla.\n",
        "\n",
        "\n",
        "```\n",
        "var1 rango 1-100\n",
        "var2 rango 200-500\n",
        "var3 rango -10 a 10\n",
        "var4 rango 0-3\n",
        "```\n",
        "\n",
        "```\n",
        "Operaciones:\n",
        "Potencia 2 de var1\n",
        "Potencia 1/2 de var2\n",
        "Potencia de 3 var3 mas el absoluto de var3/2\n",
        "Potencia 1/2 de var4 menos Potencia 1/2 de (var1+var2+var3+var4)\n",
        "\n",
        "```\n",
        "\n",
        "\n",
        "\n",
        "\n"
      ],
      "metadata": {
        "id": "tOunkduEnJh7"
      }
    },
    {
      "cell_type": "code",
      "source": [],
      "metadata": {
        "id": "0bc9VZVPnI0i"
      },
      "execution_count": null,
      "outputs": []
    }
  ]
}