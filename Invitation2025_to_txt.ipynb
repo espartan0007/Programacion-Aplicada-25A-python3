{
  "nbformat": 4,
  "nbformat_minor": 0,
  "metadata": {
    "colab": {
      "provenance": [],
      "authorship_tag": "ABX9TyNMccz37kPR9c8D+0W4n5SU",
      "include_colab_link": true
    },
    "kernelspec": {
      "name": "python3",
      "display_name": "Python 3"
    },
    "language_info": {
      "name": "python"
    }
  },
  "cells": [
    {
      "cell_type": "markdown",
      "metadata": {
        "id": "view-in-github",
        "colab_type": "text"
      },
      "source": [
        "<a href=\"https://colab.research.google.com/github/espartan0007/Programacion-Aplicada-25A-python3/blob/main/Invitation2025_to_txt.ipynb\" target=\"_parent\"><img src=\"https://colab.research.google.com/assets/colab-badge.svg\" alt=\"Open In Colab\"/></a>"
      ]
    },
    {
      "cell_type": "code",
      "source": [
        "for x in range(10):# 0 hasta n-1\n",
        "    print(x)"
      ],
      "metadata": {
        "colab": {
          "base_uri": "https://localhost:8080/"
        },
        "id": "RrVHoCkHwR0E",
        "outputId": "c88d6df8-c391-4b6f-bc64-3ea10542b7b0"
      },
      "execution_count": null,
      "outputs": [
        {
          "output_type": "stream",
          "name": "stdout",
          "text": [
            "0\n",
            "1\n",
            "2\n",
            "3\n",
            "4\n",
            "5\n",
            "6\n",
            "7\n",
            "8\n",
            "9\n"
          ]
        }
      ]
    },
    {
      "cell_type": "code",
      "source": [
        "for x in range(12,101,1):# 0 hasta n-1\n",
        "    if x%2==0:\n",
        "      print(x)"
      ],
      "metadata": {
        "colab": {
          "base_uri": "https://localhost:8080/"
        },
        "collapsed": true,
        "id": "A2tIg1dDwh-b",
        "outputId": "d4e5bf03-b9b9-4dcf-d508-e6336c5aa1f7"
      },
      "execution_count": null,
      "outputs": [
        {
          "output_type": "stream",
          "name": "stdout",
          "text": [
            "12\n",
            "14\n",
            "16\n",
            "18\n",
            "20\n",
            "22\n",
            "24\n",
            "26\n",
            "28\n",
            "30\n",
            "32\n",
            "34\n",
            "36\n",
            "38\n",
            "40\n",
            "42\n",
            "44\n",
            "46\n",
            "48\n",
            "50\n",
            "52\n",
            "54\n",
            "56\n",
            "58\n",
            "60\n",
            "62\n",
            "64\n",
            "66\n",
            "68\n",
            "70\n",
            "72\n",
            "74\n",
            "76\n",
            "78\n",
            "80\n",
            "82\n",
            "84\n",
            "86\n",
            "88\n",
            "90\n",
            "92\n",
            "94\n",
            "96\n",
            "98\n",
            "100\n"
          ]
        }
      ]
    },
    {
      "cell_type": "code",
      "source": [],
      "metadata": {
        "id": "7zzdQLQbyLxk"
      },
      "execution_count": null,
      "outputs": []
    },
    {
      "cell_type": "code",
      "execution_count": null,
      "metadata": {
        "colab": {
          "base_uri": "https://localhost:8080/"
        },
        "outputId": "9e376ab9-5541-4364-af06-e05b603f7feb",
        "id": "qBvNxcCkqdLe"
      },
      "outputs": [
        {
          "output_type": "stream",
          "name": "stdout",
          "text": [
            "0\n",
            "1\n",
            "2\n",
            "3\n",
            "4\n",
            "5\n",
            "6\n",
            "7\n",
            "8\n",
            "9\n"
          ]
        }
      ],
      "source": [
        "# Save to files\n",
        "filename = \"formal.txt\"\n",
        "with open(filename, 'a') as file:\n",
        "  for x in range(10):\n",
        "    # 0 hasta n-1\n",
        "    print(x)\n",
        "    file.write(str(x)+\"\\n\" )\n",
        "\n",
        "\n",
        "\n"
      ]
    },
    {
      "cell_type": "code",
      "source": [
        "li=[\"Arturo\",\"Valdivia\",\"Gonzalez\",2945343,\"arturo.valdivia@academicos.udg.mx\"]\n",
        "#name=\"Arturo\"\n",
        "for x in li:\n",
        "    print(x)"
      ],
      "metadata": {
        "colab": {
          "base_uri": "https://localhost:8080/"
        },
        "id": "oBqVZmcAs9qx",
        "outputId": "1f92a866-196e-41ff-c001-7b330c192632"
      },
      "execution_count": null,
      "outputs": [
        {
          "output_type": "stream",
          "name": "stdout",
          "text": [
            "Arturo\n",
            "Valdivia\n",
            "Gonzalez\n",
            "2945343\n",
            "arturo.valdivia@academicos.udg.mx\n"
          ]
        }
      ]
    },
    {
      "cell_type": "code",
      "source": [
        "# Read file\n",
        "filename = \"codigo.txt\"\n",
        "with open(filename, 'r') as file:\n",
        "    #lines = file.readlines()\n",
        "    for line in file:\n",
        "        print(line)"
      ],
      "metadata": {
        "colab": {
          "base_uri": "https://localhost:8080/"
        },
        "collapsed": true,
        "id": "cdZC_QVwvNjo",
        "outputId": "378f4183-0b4c-47c7-9684-42b23910c436"
      },
      "execution_count": null,
      "outputs": [
        {
          "output_type": "stream",
          "name": "stdout",
          "text": [
            "#include <iostream>\n",
            "\n",
            "#include <cstdlib> // For system(\"cls\") or system(\"clear\")\n",
            "\n",
            "using namespace std;\n",
            "\n",
            "\n",
            "\n",
            "class Star {\n",
            "\n",
            "private:\n",
            "\n",
            "    int x;  // Horizontal position\n",
            "\n",
            "    int y;  // Vertical position\n",
            "\n",
            "    const int MAX_X = 79; // Max width (assuming 80-column console)\n",
            "\n",
            "    const int MAX_Y = 23; // Max height (assuming 24-row console)\n",
            "\n",
            "\n",
            "\n",
            "public:\n",
            "\n",
            "    // Constructor: Initialize star at center\n",
            "\n",
            "    Star() {\n",
            "\n",
            "        x = 40; // Roughly centered horizontally\n",
            "\n",
            "        y = 12; // Roughly centered vertically\n",
            "\n",
            "    }\n"
          ]
        }
      ]
    },
    {
      "cell_type": "code",
      "source": [
        "first_name = \"Arturo\"\n",
        "last_name = \"Valdivia\"\n",
        "event_date = \"April 15, 2025\"\n",
        "event_time = \"6:00 PM\"\n",
        "venue = \"Grand Horizon Ballroom\"\n",
        "table_num=1\n",
        "present=\"Un yeti\"\n",
        "\n",
        "invitation = f\"\"\"\n",
        "Dear {first_name} {last_name},\n",
        "\n",
        "You are cordially invited to attend a special gala dinner on {event_date} at {event_time}.\n",
        "The event will take place at the {venue}.\n",
        "\n",
        "We have reserved a seat for you at Table {table_num}.\n",
        "As a suggested present, we recommend: {present}\n",
        "\n",
        "Please RSVP by April 1, 2025.\n",
        "We look forward to celebrating with you!\n",
        "\n",
        "Sincerely,\n",
        "The Event Committee\n",
        "----------------------------------------\n",
        "\"\"\"\n",
        "\n",
        "print(invitation)"
      ],
      "metadata": {
        "id": "m94s8dxCp_FJ",
        "colab": {
          "base_uri": "https://localhost:8080/"
        },
        "outputId": "a41f37e7-e7e4-49fe-a125-33c00e09c922"
      },
      "execution_count": null,
      "outputs": [
        {
          "output_type": "stream",
          "name": "stdout",
          "text": [
            "\n",
            "Dear Arturo Valdivia,\n",
            "\n",
            "You are cordially invited to attend a special gala dinner on April 15, 2025 at 6:00 PM.\n",
            "The event will take place at the Grand Horizon Ballroom.\n",
            "\n",
            "We have reserved a seat for you at Table 1.\n",
            "As a suggested present, we recommend: Un yeti\n",
            "\n",
            "Please RSVP by April 1, 2025.\n",
            "We look forward to celebrating with you!\n",
            "\n",
            "Sincerely,\n",
            "The Event Committee\n",
            "----------------------------------------\n",
            "\n"
          ]
        }
      ]
    },
    {
      "cell_type": "code",
      "source": [
        "import random\n",
        "\n",
        "t_num = random.randint(1, 10)  # Random table between 1-5\n",
        "first_names = [\"James\", \"Emma\", \"Alexander\", \"Sophie\", \"William\",\n",
        "               \"Olivia\", \"Thomas\", \"Isabella\", \"Charles\", \"Amelia\"]\n",
        "print(t_num)\n",
        "print(first_names[t_num])"
      ],
      "metadata": {
        "id": "hyEzio4Lp1Fw",
        "colab": {
          "base_uri": "https://localhost:8080/"
        },
        "outputId": "bafb1b6a-65d1-4e79-bd5e-cc057d1438d8"
      },
      "execution_count": null,
      "outputs": [
        {
          "output_type": "stream",
          "name": "stdout",
          "text": [
            "5\n",
            "Olivia\n"
          ]
        }
      ]
    },
    {
      "cell_type": "code",
      "execution_count": null,
      "metadata": {
        "colab": {
          "base_uri": "https://localhost:8080/"
        },
        "id": "iRK9W4Vwuoo5",
        "outputId": "93084fe0-392c-400e-a38a-6833429d56da"
      },
      "outputs": [
        {
          "output_type": "stream",
          "name": "stdout",
          "text": [
            "Invitations have been generated and saved to 'formal_invitations.txt'\n"
          ]
        }
      ],
      "source": [
        "import random\n",
        "from datetime import datetime\n",
        "\n",
        "#\n",
        "first_names = [\"James\", \"Emma\", \"Alexander\", \"Sophie\", \"William\",\n",
        "               \"Olivia\", \"Thomas\", \"Isabella\", \"Charles\", \"Amelia\"]\n",
        "last_names = [\"Smith\", \"Johnson\", \"Brown\", \"Taylor\", \"Wilson\",\n",
        "              \"Davis\", \"Clark\", \"Lewis\", \"Walker\", \"Hall\"]\n",
        "presents = [\"Crystal Vase\", \"Silver Picture Frame\", \"Wine Set\",\n",
        "            \"Gift Card\", \"Table Lamp\"]\n",
        "\n",
        "#\n",
        "event_date = \"April 15, 2025\"\n",
        "event_time = \"6:00 PM\"\n",
        "venue = \"Grand Horizon Ballroom\"\n",
        "\n",
        "#\n",
        "def generate_invitation(first_name, last_name, table_num, present):\n",
        "    invitation = f\"\"\"\n",
        "Dear {first_name} {last_name},\n",
        "\n",
        "You are cordially invited to attend a special gala dinner on {event_date} at {event_time}.\n",
        "The event will take place at the {venue}.\n",
        "\n",
        "We have reserved a seat for you at Table {table_num}.\n",
        "As a suggested present, we recommend: {present}\n",
        "\n",
        "Please RSVP by April 1, 2025.\n",
        "We look forward to celebrating with you!\n",
        "\n",
        "Sincerely,\n",
        "The Event Committee\n",
        "----------------------------------------\n",
        "\"\"\"\n",
        "    return invitation\n",
        "\n",
        "# Generate invitations for 10 people\n",
        "invitations = []\n",
        "for i in range(10):\n",
        "    first_name = first_names[i]\n",
        "    last_name = last_names[i]\n",
        "    table_num = random.randint(1, 5)  # Random table between 1-5\n",
        "    present = random.choice(presents)  # Random present from list\n",
        "\n",
        "    invitation = generate_invitation(first_name, last_name, table_num, present)\n",
        "    invitations.append(invitation)\n",
        "\n",
        "# Save to file\n",
        "filename = \"formal_invitations.txt\"\n",
        "with open(filename, 'w') as file:\n",
        "    file.write(f\"Invitations Generated on {datetime.now().strftime('%B %d, %Y')}\\n\\n\")\n",
        "    for invitation in invitations:\n",
        "        file.write(invitation)\n",
        "\n",
        "print(f\"Invitations have been generated and saved to '{filename}'\")"
      ]
    }
  ]
}