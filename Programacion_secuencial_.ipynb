{
  "nbformat": 4,
  "nbformat_minor": 0,
  "metadata": {
    "colab": {
      "provenance": [],
      "authorship_tag": "ABX9TyMEHLNsoseQWRk/Kzo9TmrI",
      "include_colab_link": true
    },
    "kernelspec": {
      "name": "python3",
      "display_name": "Python 3"
    },
    "language_info": {
      "name": "python"
    }
  },
  "cells": [
    {
      "cell_type": "markdown",
      "metadata": {
        "id": "view-in-github",
        "colab_type": "text"
      },
      "source": [
        "<a href=\"https://colab.research.google.com/github/espartan0007/Programacion-Aplicada-25A-python3/blob/main/Programacion_secuencial_.ipynb\" target=\"_parent\"><img src=\"https://colab.research.google.com/assets/colab-badge.svg\" alt=\"Open In Colab\"/></a>"
      ]
    },
    {
      "cell_type": "markdown",
      "source": [
        "Estilo e programación que ejecuta todas las lineas de codigo de Arriba hasta Abajo\n",
        "\n",
        "TOP\n",
        "BOTTOM"
      ],
      "metadata": {
        "id": "JoSXa-XMZFG3"
      }
    },
    {
      "cell_type": "code",
      "execution_count": null,
      "metadata": {
        "colab": {
          "base_uri": "https://localhost:8080/"
        },
        "id": "o70CH1ewY_ZQ",
        "outputId": "20480733-79e9-4046-8e2e-3a6144ec0c71"
      },
      "outputs": [
        {
          "output_type": "stream",
          "name": "stdout",
          "text": [
            "La fecha aleatoria que te toco es  23 / 8 / 1599 : p\n"
          ]
        }
      ],
      "source": [
        "# Program to generate a random number between 0 and 9\n",
        "\n",
        "# importing the random module\n",
        "import random\n",
        "\n",
        "dia=random.randint(1,31)\n",
        "mes =random.randint(1,12)\n",
        "año=random.randint(1,2025)\n",
        "print(\"La fecha aleatoria que te toco es \",dia,\"/\",mes,\"/\",año,\": p\")"
      ]
    },
    {
      "cell_type": "code",
      "source": [
        "# Taking kilometers input from the user\n",
        "kilometers = float(input(\"Enter value in kilometers: \"))\n",
        "\n",
        "# conversion factor\n",
        "conv_fac = 0.621371\n",
        "\n",
        "# calculate miles\n",
        "miles = kilometers * conv_fac\n",
        "print('%0.3f kilometers is equal to %0.3f miles' %(kilometers,miles))"
      ],
      "metadata": {
        "colab": {
          "base_uri": "https://localhost:8080/"
        },
        "id": "R6AHVQArd9Ki",
        "outputId": "74416eba-4aab-4f5d-a947-720f3c4001ff"
      },
      "execution_count": null,
      "outputs": [
        {
          "output_type": "stream",
          "name": "stdout",
          "text": [
            "Enter value in kilometers: 3\n",
            "3.000 kilometers is equal to 1.864 miles\n"
          ]
        }
      ]
    },
    {
      "cell_type": "code",
      "source": [
        "print('%0.2f kilometers is equal to %0.2f miles' %(kilometers,miles))"
      ],
      "metadata": {
        "colab": {
          "base_uri": "https://localhost:8080/"
        },
        "id": "aUWb5wibeDyd",
        "outputId": "3e707da0-bffa-4113-9881-ebedaf67b9f5"
      },
      "execution_count": null,
      "outputs": [
        {
          "output_type": "stream",
          "name": "stdout",
          "text": [
            "3.00 kilometers is equal to 1.86 miles\n"
          ]
        }
      ]
    },
    {
      "cell_type": "code",
      "source": [
        "# Python Program to convert temperature in celsius to fahrenheit\n",
        "\n",
        "# change this value for a different result\n",
        "celsius = 37.5\n",
        "\n",
        "# calculate fahrenheit\n",
        "fahrenheit = (celsius * 1.8) + 32\n",
        "print('%0.1f degree Celsius is equal to %0.1f degree Fahrenheit' %(celsius,fahrenheit))\n"
      ],
      "metadata": {
        "colab": {
          "base_uri": "https://localhost:8080/"
        },
        "id": "P4jEkzA8fQeG",
        "outputId": "8fc430f9-af0a-43b5-e022-27701a0a4910"
      },
      "execution_count": null,
      "outputs": [
        {
          "output_type": "stream",
          "name": "stdout",
          "text": [
            "37.5 degree Celsius is equal to 99.5 degree Fahrenheit\n"
          ]
        }
      ]
    },
    {
      "cell_type": "markdown",
      "source": [
        "Diseñar y codificar un algoritmo que cobre 5 productos(Usuario define los precios) al final debe imprimir el total a pagar, Cuanto se le cobro de IVA  y un mensaje de agradecimiento por Comprar en CHONITA-EATS.\n",
        "\n",
        "---\n",
        "\n"
      ],
      "metadata": {
        "id": "-5L3YmTpfkI8"
      }
    },
    {
      "cell_type": "code",
      "source": [
        "De=\"\"\"\n",
        "CHONITA-EATS\n",
        "\"\"\"\n",
        "print(De)"
      ],
      "metadata": {
        "id": "PjI28OuDm8ll",
        "outputId": "bf7f3e24-a90a-41ac-d912-2d8a86048123",
        "colab": {
          "base_uri": "https://localhost:8080/"
        }
      },
      "execution_count": null,
      "outputs": [
        {
          "output_type": "stream",
          "name": "stdout",
          "text": [
            "\n",
            "CHONITA-EATS\n",
            "\n"
          ]
        }
      ]
    }
  ]
}