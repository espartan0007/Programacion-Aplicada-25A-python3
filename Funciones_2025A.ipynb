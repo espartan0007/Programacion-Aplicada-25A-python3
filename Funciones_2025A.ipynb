{
  "nbformat": 4,
  "nbformat_minor": 0,
  "metadata": {
    "colab": {
      "provenance": [],
      "authorship_tag": "ABX9TyMmNvCNf1yzZmjcZITr2c3j",
      "include_colab_link": true
    },
    "kernelspec": {
      "name": "python3",
      "display_name": "Python 3"
    },
    "language_info": {
      "name": "python"
    }
  },
  "cells": [
    {
      "cell_type": "markdown",
      "metadata": {
        "id": "view-in-github",
        "colab_type": "text"
      },
      "source": [
        "<a href=\"https://colab.research.google.com/github/espartan0007/Programacion-Aplicada-25A-python3/blob/main/Funciones_2025A.ipynb\" target=\"_parent\"><img src=\"https://colab.research.google.com/assets/colab-badge.svg\" alt=\"Open In Colab\"/></a>"
      ]
    },
    {
      "cell_type": "code",
      "execution_count": null,
      "metadata": {
        "colab": {
          "base_uri": "https://localhost:8080/"
        },
        "id": "3dWJAMFJLZSS",
        "outputId": "60e8be55-b93e-444f-a1cf-8b2e98ccec95"
      },
      "outputs": [
        {
          "output_type": "stream",
          "name": "stdout",
          "text": [
            "7\n"
          ]
        }
      ],
      "source": [
        "num_letras=len(\"Arturo \")\n",
        "print(num_letras)"
      ]
    },
    {
      "cell_type": "code",
      "source": [
        "num_s=max([1,2,3,4,5,6,7,1e-100])#Listas\n",
        "print(num_s)"
      ],
      "metadata": {
        "colab": {
          "base_uri": "https://localhost:8080/"
        },
        "id": "6GnSyoDfNNmZ",
        "outputId": "f6ad260e-be49-4513-b1bd-7371a5bfba75"
      },
      "execution_count": null,
      "outputs": [
        {
          "output_type": "stream",
          "name": "stdout",
          "text": [
            "7\n"
          ]
        }
      ]
    },
    {
      "cell_type": "code",
      "source": [
        "num_s=min([1,2,3,4,5,6,7,1e-100]) #Listas\n",
        "print(num_s)"
      ],
      "metadata": {
        "colab": {
          "base_uri": "https://localhost:8080/"
        },
        "id": "rlLOXFw9NcMY",
        "outputId": "a3612cb2-b857-4296-d4e8-54f3f9e67e32"
      },
      "execution_count": null,
      "outputs": [
        {
          "output_type": "stream",
          "name": "stdout",
          "text": [
            "1e-100\n"
          ]
        }
      ]
    },
    {
      "cell_type": "code",
      "source": [
        "num_s=abs(-100)\n",
        "print(num_s)"
      ],
      "metadata": {
        "colab": {
          "base_uri": "https://localhost:8080/"
        },
        "id": "WlspWol8NfxI",
        "outputId": "48a71a38-f57a-4247-996c-30175c0d629a"
      },
      "execution_count": null,
      "outputs": [
        {
          "output_type": "stream",
          "name": "stdout",
          "text": [
            "100\n"
          ]
        }
      ]
    },
    {
      "cell_type": "code",
      "source": [
        "def sumar2(f1,f2):\n",
        "  t=f1+f2\n",
        "  return t\n",
        "\n",
        "#MAIN\n",
        "x,y =22,11\n",
        "res=sumar2(x,y)  #print(x+y)\n",
        "print(res)\n",
        "\n",
        "print(\"Fin del programa\")"
      ],
      "metadata": {
        "colab": {
          "base_uri": "https://localhost:8080/"
        },
        "id": "UxGljFsWN5GC",
        "outputId": "6bc0221b-8a02-403e-f916-4581b259ee74"
      },
      "execution_count": null,
      "outputs": [
        {
          "output_type": "stream",
          "name": "stdout",
          "text": [
            "33\n",
            "33\n",
            "Fin del programa\n"
          ]
        }
      ]
    },
    {
      "cell_type": "code",
      "source": [
        "def hipo(f1,f2):\n",
        "  h=(f1**2+f2**2)**0.5\n",
        "  return h\n",
        "\n",
        "#MAIN\n",
        "x,y =2,3\n",
        "res=hipo(x,y)\n",
        "print(\"LA hipotenusa de los catetos\",x,\" \",y,\" es \",res)\n",
        "\n",
        "print(\"Fin del programa\")"
      ],
      "metadata": {
        "colab": {
          "base_uri": "https://localhost:8080/"
        },
        "id": "xhRjLu4_P-62",
        "outputId": "da48b39d-54a8-42e5-c752-f8d9fdd50a65"
      },
      "execution_count": null,
      "outputs": [
        {
          "output_type": "stream",
          "name": "stdout",
          "text": [
            "LA hipotenusa de los catetos 2   3  es  3.605551275463989\n",
            "Fin del programa\n"
          ]
        }
      ]
    },
    {
      "cell_type": "code",
      "source": [
        "def triangulo(f1,f2):\n",
        "  h=(f1*f2)/2\n",
        "  return h\n",
        "\n",
        "#MAIN\n",
        "b,h =2.0,3.0\n",
        "res=triangulo(b,h)\n",
        "print(\"El area del triangulo es \",res,\" con aristas \",b,h)\n",
        "\n",
        "print(\"Fin del programa\")"
      ],
      "metadata": {
        "colab": {
          "base_uri": "https://localhost:8080/"
        },
        "id": "5I1Xsq6aQy40",
        "outputId": "416bb73b-49ad-4bfc-d6f2-9023fc8d5513"
      },
      "execution_count": null,
      "outputs": [
        {
          "output_type": "stream",
          "name": "stdout",
          "text": [
            "El area del triangulo es  3.0  con aristas  2.0 3.0\n",
            "Fin del programa\n"
          ]
        }
      ]
    },
    {
      "cell_type": "code",
      "source": [
        "def min_of3c(f1,f2,f3):\n",
        "  h=min([f1,f2,f3])\n",
        "  return h\n",
        "\n",
        "#MAIN\n",
        "b,h ,w=2,3,8\n",
        "res=min_of3(b,h,w)\n",
        "print(\"El menor de tres es\",res)\n",
        "\n",
        "print(\"Fin del programa\")"
      ],
      "metadata": {
        "colab": {
          "base_uri": "https://localhost:8080/"
        },
        "id": "6pm8TRF2RuFU",
        "outputId": "3673f981-bffd-420c-930c-4274ddd851aa"
      },
      "execution_count": null,
      "outputs": [
        {
          "output_type": "stream",
          "name": "stdout",
          "text": [
            "El menor de tres es 2\n",
            "Fin del programa\n"
          ]
        }
      ]
    },
    {
      "cell_type": "code",
      "source": [
        "def min_of3(f1,f2,f3):\n",
        "  if f1 <f2 and f1<f3:\n",
        "    #print(\"el menor es \",f1)\n",
        "    return f1\n",
        "  else:\n",
        "    if f2 <f1 and f2<f3:\n",
        "      #print(\"el menor es \",f2)\n",
        "      return f2\n",
        "    else:\n",
        "      #print(\"el menor es \",f3)\n",
        "      return f3\n",
        " #MAIN\n",
        "b,h ,w=22,3,8\n",
        "res=min_of3(b,h,w)\n",
        "print(\"El menor de tres es\",res)\n",
        "\n",
        "print(\"Fin del programa\")"
      ],
      "metadata": {
        "colab": {
          "base_uri": "https://localhost:8080/"
        },
        "id": "q6N_eUPFSMRG",
        "outputId": "fb45e33e-61f2-4dc8-84d1-1c4f29ffe53b"
      },
      "execution_count": null,
      "outputs": [
        {
          "output_type": "stream",
          "name": "stdout",
          "text": [
            "El menor de tres es 3\n",
            "Fin del programa\n"
          ]
        }
      ]
    },
    {
      "cell_type": "code",
      "source": [
        "def max_of3(f1,f2,f3):\n",
        "  if f1 >f2 and f1>f3:\n",
        "    #print(\"el menor es \",f1)\n",
        "    return f1\n",
        "  else:\n",
        "    if f2 >f1 and f2>f3:\n",
        "      #print(\"el menor es \",f2)\n",
        "      return f2\n",
        "    else:\n",
        "      #print(\"el menor es \",f3)\n",
        "      return f3\n",
        " #MAIN\n",
        "b,h ,w=22,3,8\n",
        "res=max_of3(b,h,w)\n",
        "print(\"El mayor de tres es\",res)\n",
        "\n",
        "print(\"Fin del programa\")"
      ],
      "metadata": {
        "colab": {
          "base_uri": "https://localhost:8080/"
        },
        "id": "tMLJx1zeTVa1",
        "outputId": "b79d3eff-67e4-4775-88a6-cf91ea333da4"
      },
      "execution_count": null,
      "outputs": [
        {
          "output_type": "stream",
          "name": "stdout",
          "text": [
            "El mayor de tres es 3\n",
            "Fin del programa\n"
          ]
        }
      ]
    },
    {
      "cell_type": "code",
      "source": [
        "#MENU CON IF ELSE\n",
        "opc=int(input(\"Que eliges ? \"))\n",
        "if opc==1 :\n",
        "  print(\"Suma de 2 \")\n",
        "elif opc==2 :\n",
        "  print(\"Hipotenusa \")\n",
        "elif opc==3 :\n",
        "  print(\"Area del triangulo \")\n",
        "elif opc==4 :\n",
        "  print(\"Max de tres \")\n",
        "elif opc==5 :\n",
        "  print(\"Min de tres \")\n",
        "else:\n",
        "  print(\"Esa opcion no existe 🫠\")\n"
      ],
      "metadata": {
        "id": "GT7WeBkuT3T9",
        "colab": {
          "base_uri": "https://localhost:8080/"
        },
        "outputId": "6ee758db-a0f2-4066-c552-4fc75e5c9d3c"
      },
      "execution_count": 29,
      "outputs": [
        {
          "output_type": "stream",
          "name": "stdout",
          "text": [
            "Que eliges ? 4\n",
            "Max de tres \n"
          ]
        }
      ]
    },
    {
      "cell_type": "code",
      "source": [
        "def sumar2(f1,f2):\n",
        "  t=f1+f2\n",
        "  return t\n",
        "def hipo(f1,f2):\n",
        "  h=(f1**2+f2**2)**0.5\n",
        "  return h\n",
        "def triangulo(f1,f2):\n",
        "  h=(f1*f2)/2\n",
        "  return h\n",
        "def min_of3(f1,f2,f3):\n",
        "  if f1 <f2 and f1<f3:\n",
        "    #print(\"el menor es \",f1)\n",
        "    return f1\n",
        "  else:\n",
        "    if f2 <f1 and f2<f3:\n",
        "      #print(\"el menor es \",f2)\n",
        "      return f2\n",
        "    else:\n",
        "      #print(\"el menor es \",f3)\n",
        "      return f3\n",
        "def max_of3(f1,f2,f3):\n",
        "  if f1 >f2 and f1>f3:\n",
        "    #print(\"el menor es \",f1)\n",
        "    return f1\n",
        "  else:\n",
        "    if f2 >f1 and f2>f3:\n",
        "      #print(\"el menor es \",f2)\n",
        "      return f2\n",
        "    else:\n",
        "      #print(\"el menor es \",f3)\n",
        "      return f3\n",
        "txt=\"\"\"\n",
        "___  ___ _____ _   _ _   _         _____  ________   __\n",
        "|  \\/  ||  ___| \\ | | | | |       |  _  ||___  /  | /  |\n",
        "| .  . || |__ |  \\| | | | | __   _| |/' |   / /`| | `| |\n",
        "| |\\/| ||  __|| . ` | | | | \\ \\ / /  /| |  / /  | |  | |\n",
        "| |  | || |___| |\\  | |_| |  \\ V /\\ |_/ /./ /  _| |__| |_\n",
        "\\_|  |_/\\____/\\_| \\_/\\___/    \\_/  \\___(_)_/   \\___/\\___/\n",
        "\"\"\"\n",
        "choro=\"\"\"\n",
        "La opcion:\n",
        "1)Suma de 2 😵\n",
        "2) Hipotenusa 😵\n",
        "3) área del triángulo 😵\n",
        "4) Mayor de 3 😵\n",
        "5) Menor de 3 😵\n",
        "\"\"\"\n",
        "#MAIN\n",
        "print(txt)\n",
        "opc=int(input(\"Que eliges ? \"))\n",
        "if opc==1 :\n",
        "  print(\"Suma de 2 \")\n",
        "elif opc==2 :\n",
        "  print(\"Hipotenusa \")\n",
        "elif opc==3 :\n",
        "  print(\"Area del triangulo \")\n",
        "elif opc==4 :\n",
        "  print(\"Max de tres \")\n",
        "  b=float(input(\"Escribe un numero\"))\n",
        "  h=float(input(\"Escribe un numero\"))\n",
        "  w=float(input(\"Escribe un numero\"))\n",
        "  res=max_of3(b,h,w)\n",
        "  print(\"El mayor de tres es\",res)\n",
        "elif opc==5 :\n",
        "  print(\"Min de tres \")\n",
        "else:\n",
        "  print(\"Esa opcion no existe 🫠\")"
      ],
      "metadata": {
        "colab": {
          "base_uri": "https://localhost:8080/"
        },
        "id": "DELP191GVTNF",
        "outputId": "70734468-3691-4c3b-aafc-3a0e7fce5e3d"
      },
      "execution_count": 2,
      "outputs": [
        {
          "output_type": "stream",
          "name": "stdout",
          "text": [
            "\n",
            "___  ___ _____ _   _ _   _         _____  ________   __  \n",
            "|  \\/  ||  ___| \\ | | | | |       |  _  ||___  /  | /  | \n",
            "| .  . || |__ |  \\| | | | | __   _| |/' |   / /`| | `| | \n",
            "| |\\/| ||  __|| . ` | | | | \\ \\ / /  /| |  / /  | |  | | \n",
            "| |  | || |___| |\\  | |_| |  \\ V /\\ |_/ /./ /  _| |__| |_\n",
            "\\_|  |_/\\____/\\_| \\_/\\___/    \\_/  \\___(_)_/   \\___/\\___/                                                        \n",
            "\n",
            "Que eliges ? 2\n",
            "Hipotenusa \n"
          ]
        }
      ]
    }
  ]
}