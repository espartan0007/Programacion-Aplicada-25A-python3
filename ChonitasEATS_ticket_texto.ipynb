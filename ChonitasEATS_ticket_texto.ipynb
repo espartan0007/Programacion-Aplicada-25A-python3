{
  "nbformat": 4,
  "nbformat_minor": 0,
  "metadata": {
    "colab": {
      "provenance": [],
      "authorship_tag": "ABX9TyOYOrBZE+x3PG1EvI2CpVsb",
      "include_colab_link": true
    },
    "kernelspec": {
      "name": "python3",
      "display_name": "Python 3"
    },
    "language_info": {
      "name": "python"
    }
  },
  "cells": [
    {
      "cell_type": "markdown",
      "metadata": {
        "id": "view-in-github",
        "colab_type": "text"
      },
      "source": [
        "<a href=\"https://colab.research.google.com/github/espartan0007/Programacion-Aplicada-25A-python3/blob/main/ChonitasEATS_ticket_texto.ipynb\" target=\"_parent\"><img src=\"https://colab.research.google.com/assets/colab-badge.svg\" alt=\"Open In Colab\"/></a>"
      ]
    },
    {
      "cell_type": "markdown",
      "source": [
        "Diseñar y codificar un algoritmo que haga una cuenta del restaurante en CHONITA-EAT's. La idea es que solo se cuantifique cuantas Gorditas, Tacos, Huaraches, Aguas y Jericallas. Los precios base de cada producto son:\n",
        "\n",
        "Gorditas $50  ,Tacos $45 ,Huaraches $40 ,Aguas $35 ,Jerichallas 25\n",
        "\n",
        "Imprimir al final Total, IVA y TOTAL a Pagar(Total+IVA) . Usen el arhivo adjunto(Chonitas EATS.ipynb) para completar su tarea.\n",
        "\n",
        "Documente su código .\n",
        "\n",
        "Entregable el archivo de cuaderno asignado y agregar el los comentarios el nombre del autor y codigo."
      ],
      "metadata": {
        "id": "5-B7FcF8QFu5"
      }
    },
    {
      "cell_type": "code",
      "execution_count": null,
      "metadata": {
        "id": "SMnIRelsP5I6"
      },
      "outputs": [],
      "source": [
        "title=\"\"\"\n",
        "BIENVENIDO A:\n",
        "\n",
        "       ██████╗██╗  ██╗ ██████╗ ███╗   ██╗██╗████████╗ █████╗ ███████╗    ███████╗ █████╗ ████████╗███████╗\n",
        "      ██╔════╝██║  ██║██╔═══██╗████╗  ██║██║╚══██╔══╝██╔══██╗██╔════╝    ██╔════╝██╔══██╗╚══██╔══╝██╔════╝\n",
        "█████╗██║     ███████║██║   ██║██╔██╗ ██║██║   ██║   ███████║███████╗    █████╗  ███████║   ██║   ███████╗█████╗\n",
        "╚════╝██║     ██╔══██║██║   ██║██║╚██╗██║██║   ██║   ██╔══██║╚════██║    ██╔══╝  ██╔══██║   ██║   ╚════██║╚════╝\n",
        "      ╚██████╗██║  ██║╚██████╔╝██║ ╚████║██║   ██║   ██║  ██║███████║    ███████╗██║  ██║   ██║   ███████║\n",
        "       ╚═════╝╚═╝  ╚═╝ ╚═════╝ ╚═╝  ╚═══╝╚═╝   ╚═╝   ╚═╝  ╚═╝╚══════╝    ╚══════╝╚═╝  ╚═╝   ╚═╝   ╚══════╝\n",
        "\n",
        "\n",
        "\"\"\"\n",
        "\n",
        "print(title)\n",
        "\n",
        "Grd=50\n",
        "Tc=45\n",
        "Hr=40\n",
        "Wt=35\n",
        "Jr=25\n",
        "\n",
        "\n",
        "cnt_grd=int(input(\"Cuantas Gorditas\"))\n",
        "cnt_Tc=int(input(\"Cuantos Tacos\"))\n",
        "cnt_Hr=int(input(\"Cuantas Huaraches\"))\n",
        "cnt_Wt=int(input(\"Cuantas Aguas\"))\n",
        "cnt_Jr=int(input(\"Cuantas Jericallas\"))\n",
        "\n",
        "neto=cnt_grd*Grd+cnt_Tc*Tc+cnt_Hr*Hr+cnt_Wt*Wt+cnt_Jr*Jr1\n",
        "iva=0.16*neto\n",
        "total=neto+iva\n",
        "print(title)\n",
        "\n",
        "print(\"Neto \", neto)\n",
        "print(\"IVA \",iva )\n",
        "print(\"total \",total)"
      ]
    },
    {
      "cell_type": "code",
      "source": [
        "from datetime import datetime\n",
        "\n",
        "hoy = datetime.now()\n",
        "\n",
        "print(hoy)\n",
        "title=\"\"\"\n",
        "BIENVENIDO A:\n",
        "\n",
        "       ██████╗██╗  ██╗ ██████╗ ███╗   ██╗██╗████████╗ █████╗ ███████╗    ███████╗ █████╗ ████████╗███████╗\n",
        "      ██╔════╝██║  ██║██╔═══██╗████╗  ██║██║╚══██╔══╝██╔══██╗██╔════╝    ██╔════╝██╔══██╗╚══██╔══╝██╔════╝\n",
        "█████╗██║     ███████║██║   ██║██╔██╗ ██║██║   ██║   ███████║███████╗    █████╗  ███████║   ██║   ███████╗█████╗\n",
        "╚════╝██║     ██╔══██║██║   ██║██║╚██╗██║██║   ██║   ██╔══██║╚════██║    ██╔══╝  ██╔══██║   ██║   ╚════██║╚════╝\n",
        "      ╚██████╗██║  ██║╚██████╔╝██║ ╚████║██║   ██║   ██║  ██║███████║    ███████╗██║  ██║   ██║   ███████║\n",
        "       ╚═════╝╚═╝  ╚═╝ ╚═════╝ ╚═╝  ╚═══╝╚═╝   ╚═╝   ╚═╝  ╚═╝╚══════╝    ╚══════╝╚═╝  ╚═╝   ╚═╝   ╚══════╝\n",
        "\n",
        "\n",
        "\"\"\"\n",
        "\n",
        "print(title)\n",
        "\n",
        "Grd=50\n",
        "Tc=45\n",
        "Hr=40\n",
        "Wt=35\n",
        "Jr=25\n",
        "Status=True\n",
        "opciones=\"\"\"\n",
        "Gorditas G\n",
        "Tacos T\n",
        "Huaraches H\n",
        "Aguas A\n",
        "Jericallas J\n",
        "\"\"\"\n",
        "while Status:\n",
        "  print(opciones)\n",
        "  opc=input(\"Elige Platillo\")\n",
        "  match opc:\n",
        "    case \"G\" | \"g\":\n",
        "      cnt_grd=int(input(\"Cuantas Gorditas\"))\n",
        "    case 'T' | \"t\":\n",
        "      cnt_Tc=int(input(\"Cuantos Tacos\"))\n",
        "    case 'H' | 'h':\n",
        "      cnt_Hr=int(input(\"Cuantas Huaraches\"))\n",
        "    case 'A' | 'a':\n",
        "      cnt_Wt=int(input(\"Cuantas Aguas\"))\n",
        "    case 'J' | 'j':\n",
        "        cnt_Jr=int(input(\"Cuantas Jericallas\"))\n",
        "    case \"x\"| \"X\":\n",
        "      Status=False\n",
        "      print(\"Saliendo...\")\n",
        "\n",
        "\n",
        "neto=cnt_grd*Grd+cnt_Tc*Tc+cnt_Hr*Hr+cnt_Wt*Wt+cnt_Jr*Jr\n",
        "iva=0.16*neto\n",
        "total=neto+iva\n",
        "\n",
        "print(\"Neto \", neto)\n",
        "print(\"IVA \",iva )\n",
        "print(\"total \",total)\n",
        "\n"
      ],
      "metadata": {
        "colab": {
          "base_uri": "https://localhost:8080/",
          "height": 721
        },
        "id": "hD5fZKt1S3Kr",
        "outputId": "b6e50d2f-a0cd-4d3e-9e0b-205b41a45b35"
      },
      "execution_count": 15,
      "outputs": [
        {
          "output_type": "stream",
          "name": "stdout",
          "text": [
            "2025-02-11 14:11:42.804637\n",
            "\n",
            "BIENVENIDO A:\n",
            "\n",
            "       ██████╗██╗  ██╗ ██████╗ ███╗   ██╗██╗████████╗ █████╗ ███████╗    ███████╗ █████╗ ████████╗███████╗\n",
            "      ██╔════╝██║  ██║██╔═══██╗████╗  ██║██║╚══██╔══╝██╔══██╗██╔════╝    ██╔════╝██╔══██╗╚══██╔══╝██╔════╝\n",
            "█████╗██║     ███████║██║   ██║██╔██╗ ██║██║   ██║   ███████║███████╗    █████╗  ███████║   ██║   ███████╗█████╗\n",
            "╚════╝██║     ██╔══██║██║   ██║██║╚██╗██║██║   ██║   ██╔══██║╚════██║    ██╔══╝  ██╔══██║   ██║   ╚════██║╚════╝\n",
            "      ╚██████╗██║  ██║╚██████╔╝██║ ╚████║██║   ██║   ██║  ██║███████║    ███████╗██║  ██║   ██║   ███████║\n",
            "       ╚═════╝╚═╝  ╚═╝ ╚═════╝ ╚═╝  ╚═══╝╚═╝   ╚═╝   ╚═╝  ╚═╝╚══════╝    ╚══════╝╚═╝  ╚═╝   ╚═╝   ╚══════╝\n",
            "\n",
            "\n",
            "\n",
            "\n",
            "Gorditas G\n",
            "Tacos T\n",
            "Huaraches H\n",
            "Aguas A\n",
            "Jericallas J\n",
            "\n"
          ]
        },
        {
          "output_type": "error",
          "ename": "KeyboardInterrupt",
          "evalue": "Interrupted by user",
          "traceback": [
            "\u001b[0;31m---------------------------------------------------------------------------\u001b[0m",
            "\u001b[0;31mKeyboardInterrupt\u001b[0m                         Traceback (most recent call last)",
            "\u001b[0;32m<ipython-input-15-abc529356274>\u001b[0m in \u001b[0;36m<cell line: 0>\u001b[0;34m()\u001b[0m\n\u001b[1;32m     34\u001b[0m \u001b[0;32mwhile\u001b[0m \u001b[0mStatus\u001b[0m\u001b[0;34m:\u001b[0m\u001b[0;34m\u001b[0m\u001b[0;34m\u001b[0m\u001b[0m\n\u001b[1;32m     35\u001b[0m   \u001b[0mprint\u001b[0m\u001b[0;34m(\u001b[0m\u001b[0mopciones\u001b[0m\u001b[0;34m)\u001b[0m\u001b[0;34m\u001b[0m\u001b[0;34m\u001b[0m\u001b[0m\n\u001b[0;32m---> 36\u001b[0;31m   \u001b[0mopc\u001b[0m\u001b[0;34m=\u001b[0m\u001b[0minput\u001b[0m\u001b[0;34m(\u001b[0m\u001b[0;34m\"Elige Platillo\"\u001b[0m\u001b[0;34m)\u001b[0m\u001b[0;34m\u001b[0m\u001b[0;34m\u001b[0m\u001b[0m\n\u001b[0m\u001b[1;32m     37\u001b[0m   \u001b[0mmatch\u001b[0m \u001b[0mopc\u001b[0m\u001b[0;34m:\u001b[0m\u001b[0;34m\u001b[0m\u001b[0;34m\u001b[0m\u001b[0m\n\u001b[1;32m     38\u001b[0m     \u001b[0mcase\u001b[0m \u001b[0;34m\"G\"\u001b[0m \u001b[0;34m|\u001b[0m \u001b[0;34m\"g\"\u001b[0m\u001b[0;34m:\u001b[0m\u001b[0;34m\u001b[0m\u001b[0;34m\u001b[0m\u001b[0m\n",
            "\u001b[0;32m/usr/local/lib/python3.11/dist-packages/ipykernel/kernelbase.py\u001b[0m in \u001b[0;36mraw_input\u001b[0;34m(self, prompt)\u001b[0m\n\u001b[1;32m    849\u001b[0m                 \u001b[0;34m\"raw_input was called, but this frontend does not support input requests.\"\u001b[0m\u001b[0;34m\u001b[0m\u001b[0;34m\u001b[0m\u001b[0m\n\u001b[1;32m    850\u001b[0m             )\n\u001b[0;32m--> 851\u001b[0;31m         return self._input_request(str(prompt),\n\u001b[0m\u001b[1;32m    852\u001b[0m             \u001b[0mself\u001b[0m\u001b[0;34m.\u001b[0m\u001b[0m_parent_ident\u001b[0m\u001b[0;34m,\u001b[0m\u001b[0;34m\u001b[0m\u001b[0;34m\u001b[0m\u001b[0m\n\u001b[1;32m    853\u001b[0m             \u001b[0mself\u001b[0m\u001b[0;34m.\u001b[0m\u001b[0m_parent_header\u001b[0m\u001b[0;34m,\u001b[0m\u001b[0;34m\u001b[0m\u001b[0;34m\u001b[0m\u001b[0m\n",
            "\u001b[0;32m/usr/local/lib/python3.11/dist-packages/ipykernel/kernelbase.py\u001b[0m in \u001b[0;36m_input_request\u001b[0;34m(self, prompt, ident, parent, password)\u001b[0m\n\u001b[1;32m    893\u001b[0m             \u001b[0;32mexcept\u001b[0m \u001b[0mKeyboardInterrupt\u001b[0m\u001b[0;34m:\u001b[0m\u001b[0;34m\u001b[0m\u001b[0;34m\u001b[0m\u001b[0m\n\u001b[1;32m    894\u001b[0m                 \u001b[0;31m# re-raise KeyboardInterrupt, to truncate traceback\u001b[0m\u001b[0;34m\u001b[0m\u001b[0;34m\u001b[0m\u001b[0m\n\u001b[0;32m--> 895\u001b[0;31m                 \u001b[0;32mraise\u001b[0m \u001b[0mKeyboardInterrupt\u001b[0m\u001b[0;34m(\u001b[0m\u001b[0;34m\"Interrupted by user\"\u001b[0m\u001b[0;34m)\u001b[0m \u001b[0;32mfrom\u001b[0m \u001b[0;32mNone\u001b[0m\u001b[0;34m\u001b[0m\u001b[0;34m\u001b[0m\u001b[0m\n\u001b[0m\u001b[1;32m    896\u001b[0m             \u001b[0;32mexcept\u001b[0m \u001b[0mException\u001b[0m \u001b[0;32mas\u001b[0m \u001b[0me\u001b[0m\u001b[0;34m:\u001b[0m\u001b[0;34m\u001b[0m\u001b[0;34m\u001b[0m\u001b[0m\n\u001b[1;32m    897\u001b[0m                 \u001b[0mself\u001b[0m\u001b[0;34m.\u001b[0m\u001b[0mlog\u001b[0m\u001b[0;34m.\u001b[0m\u001b[0mwarning\u001b[0m\u001b[0;34m(\u001b[0m\u001b[0;34m\"Invalid Message:\"\u001b[0m\u001b[0;34m,\u001b[0m \u001b[0mexc_info\u001b[0m\u001b[0;34m=\u001b[0m\u001b[0;32mTrue\u001b[0m\u001b[0;34m)\u001b[0m\u001b[0;34m\u001b[0m\u001b[0;34m\u001b[0m\u001b[0m\n",
            "\u001b[0;31mKeyboardInterrupt\u001b[0m: Interrupted by user"
          ]
        }
      ]
    },
    {
      "cell_type": "markdown",
      "source": [
        "Las promociones a partir de 3 tacos se cobrara cada uno a $33.50 y a partir de 10 tacos $30.\n",
        "\n",
        "Combo1:\n",
        "1 Taco , 1 Huarache y un Agua.\n",
        "$100"
      ],
      "metadata": {
        "id": "orDhW1DLWmMR"
      }
    },
    {
      "cell_type": "code",
      "source": [
        "from datetime import datetime\n",
        "\n",
        "hoy = datetime.now()\n",
        "\n",
        "X0,X1,X2,X3,X4=0,0,0,0,0\n",
        "\n",
        "Grd=50\n",
        "Tc=45\n",
        "Hr=40\n",
        "Wt=35\n",
        "Jr=25\n",
        "Status=True\n",
        "opciones=\"\"\"\n",
        "Gorditas G\n",
        "Tacos T\n",
        "Huaraches H\n",
        "Aguas A\n",
        "Jericallas J\n",
        "\"\"\"\n",
        "\n",
        "Flag_t,Flag_h,Flag_a= False,False,False\n",
        "while Status:\n",
        "  print(opciones)\n",
        "  opc=input(\"Elige Platillo\")\n",
        "  match opc:\n",
        "    case \"G\" | \"g\":\n",
        "      cnt_grd=int(input(\"Cuantas Gorditas\"))\n",
        "      X0=cnt_grd*Grd\n",
        "      print(X0)\n",
        "    case 'T' | \"t\":\n",
        "      cnt_Tc=int(input(\"Cuantos Tacos\"))\n",
        "      if cnt_Tc== 1:\n",
        "        Flag_t=True\n",
        "\n",
        "      if cnt_Tc >=3 <10:\n",
        "        X1=cnt_Tc*33.5\n",
        "      elif cnt_Tc >= 10:\n",
        "        X1=cnt_Tc*30\n",
        "      else:\n",
        "        X1=cnt_Tc*Tc\n",
        "\n",
        "      print(X1)\n",
        "    case 'H' | 'h':\n",
        "      cnt_Hr=int(input(\"Cuantas Huaraches\"))\n",
        "      if cnt_Hr== 1:\n",
        "        Flag_h=True\n",
        "\n",
        "      X2=cnt_Hr*Hr\n",
        "      print(X2)\n",
        "    case 'A' | 'a':\n",
        "      cnt_Wt=int(input(\"Cuantas Aguas\"))\n",
        "      if cnt_Wt== 1:\n",
        "        Flag_a=True\n",
        "\n",
        "      X3=cnt_Wt*Wt\n",
        "      print(X3)\n",
        "\n",
        "    case 'J' | 'j':\n",
        "        cnt_Jr=int(input(\"Cuantas Jericallas\"))\n",
        "        X4=cnt_Jr*Jr\n",
        "        print(X4)\n",
        "    case \"x\"| \"X\":\n",
        "      Status=False\n",
        "      print(\"Saliendo...\")\n",
        "\n",
        "if Flag_h and Flag_t and Flag_a:\n",
        "  neto=100\n",
        "  iva=0.16*neto\n",
        "  total=neto+iva\n",
        "  print(\"Combo 1 activated \")\n",
        "else:\n",
        "  neto=X0+X1+X2+X3+X4\n",
        "  iva=0.16*neto\n",
        "  total=neto+iva\n",
        "\n",
        "print(\"Neto \", neto)\n",
        "print(\"IVA \",iva )\n",
        "print(\"total \",total)\n",
        "\n"
      ],
      "metadata": {
        "colab": {
          "base_uri": "https://localhost:8080/"
        },
        "id": "qlIE0FSzWlTe",
        "outputId": "60da8559-8c8d-4d8f-cd3c-c1f02705faf4"
      },
      "execution_count": 22,
      "outputs": [
        {
          "output_type": "stream",
          "name": "stdout",
          "text": [
            "\n",
            "Gorditas G\n",
            "Tacos T\n",
            "Huaraches H\n",
            "Aguas A\n",
            "Jericallas J\n",
            "\n",
            "Elige Platillot\n",
            "Cuantos Tacos100\n",
            "3350.0\n",
            "\n",
            "Gorditas G\n",
            "Tacos T\n",
            "Huaraches H\n",
            "Aguas A\n",
            "Jericallas J\n",
            "\n",
            "Elige Platillox\n",
            "Saliendo...\n",
            "Neto  3350.0\n",
            "IVA  536.0\n",
            "total  3886.0\n"
          ]
        }
      ]
    }
  ]
}