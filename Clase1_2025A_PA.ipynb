{
  "nbformat": 4,
  "nbformat_minor": 0,
  "metadata": {
    "colab": {
      "provenance": [],
      "authorship_tag": "ABX9TyPOoQdI/B0sjfOTyGEtbWDp",
      "include_colab_link": true
    },
    "kernelspec": {
      "name": "python3",
      "display_name": "Python 3"
    },
    "language_info": {
      "name": "python"
    }
  },
  "cells": [
    {
      "cell_type": "markdown",
      "metadata": {
        "id": "view-in-github",
        "colab_type": "text"
      },
      "source": [
        "<a href=\"https://colab.research.google.com/github/espartan0007/Programacion-Aplicada-25A-python3/blob/main/Clase1_2025A_PA.ipynb\" target=\"_parent\"><img src=\"https://colab.research.google.com/assets/colab-badge.svg\" alt=\"Open In Colab\"/></a>"
      ]
    },
    {
      "cell_type": "code",
      "source": [
        "print('Hola')"
      ],
      "metadata": {
        "colab": {
          "base_uri": "https://localhost:8080/"
        },
        "id": "Rocy05hYVGdb",
        "outputId": "3e81333c-159c-4843-b4e2-c25aa46138ae"
      },
      "execution_count": null,
      "outputs": [
        {
          "output_type": "stream",
          "name": "stdout",
          "text": [
            "Hola\n"
          ]
        }
      ]
    },
    {
      "cell_type": "code",
      "execution_count": null,
      "metadata": {
        "id": "TlX3536FRjKV",
        "colab": {
          "base_uri": "https://localhost:8080/"
        },
        "outputId": "19b6cee6-a4d5-4c55-f664-7a881a2326d1"
      },
      "outputs": [
        {
          "output_type": "stream",
          "name": "stdout",
          "text": [
            "Hola\n",
            "<class 'str'>\n"
          ]
        }
      ],
      "source": [
        "msg ='Hola'\n",
        "print(msg)\n",
        "print(type(msg))"
      ]
    },
    {
      "cell_type": "code",
      "source": [
        "nombre_completo = 'Juan Pérez López'\n",
        "print(nombre_completo)"
      ],
      "metadata": {
        "colab": {
          "base_uri": "https://localhost:8080/"
        },
        "id": "NiDR3zhEVq-Y",
        "outputId": "d8caf7e0-5738-4938-a5dd-78f4dc9dfaeb"
      },
      "execution_count": null,
      "outputs": [
        {
          "output_type": "stream",
          "name": "stdout",
          "text": [
            "Juan Pérez Lópezñ\n"
          ]
        }
      ]
    },
    {
      "cell_type": "code",
      "source": [
        "pi2025=3.1416\n",
        "print(pi2025)\n",
        "print(type(pi2025)) # No le muevas"
      ],
      "metadata": {
        "colab": {
          "base_uri": "https://localhost:8080/"
        },
        "id": "vUWoNju2WCvO",
        "outputId": "aa025515-faa8-4b97-cf9c-3a7a72d53ed4"
      },
      "execution_count": null,
      "outputs": [
        {
          "output_type": "stream",
          "name": "stdout",
          "text": [
            "3.1416\n",
            "<class 'float'>\n"
          ]
        }
      ]
    },
    {
      "cell_type": "code",
      "source": [
        "# Este un codigo que ejemplifica la creacion de un numero entero y su validacion como tal.\n",
        "num_alumnos=40 # aqui cree un numero entero\n",
        "print(num_alumnos) # Aqui se imprime\n",
        "print(type(num_alumnos)) # Aqui se valida su tipo con Type\n",
        "#2025=3.1416  # Evitando errores durante el desarrollo de ideas."
      ],
      "metadata": {
        "colab": {
          "base_uri": "https://localhost:8080/"
        },
        "id": "RwfaOoUdWwub",
        "outputId": "e14271eb-818b-4cdb-ed8b-6f6102b1392e"
      },
      "execution_count": null,
      "outputs": [
        {
          "output_type": "stream",
          "name": "stdout",
          "text": [
            "40\n",
            "<class 'int'>\n"
          ]
        }
      ]
    },
    {
      "cell_type": "code",
      "source": [
        "num_alumnos=40 # aqui cree un numero entero\n",
        "pi=3.1416\n",
        "nombre_completo = 'Juan Pérez López'\n",
        "\n",
        "print(nombre_completo, num_alumnos, pi)\n"
      ],
      "metadata": {
        "colab": {
          "base_uri": "https://localhost:8080/"
        },
        "id": "yDO1xSDZYT3K",
        "outputId": "d1e1112e-712f-4389-a3c8-b22b1b55e842"
      },
      "execution_count": null,
      "outputs": [
        {
          "output_type": "stream",
          "name": "stdout",
          "text": [
            "Juan Pérez López 40 3.1416\n"
          ]
        }
      ]
    },
    {
      "cell_type": "markdown",
      "source": [],
      "metadata": {
        "id": "XHVLePsdYcfX"
      }
    },
    {
      "cell_type": "code",
      "source": [
        "num_alumnos=40 # aqui cree un numero entero\n",
        "pi=3.1416\n",
        "nombre_completo = 'Juan Pérez López'\n",
        "print(\"Mi nombre es:\",nombre_completo,\"el valor de pi es:\",pi,\"En mi aula hay \",num_alumnos,\"Alumnos 👌😎\")"
      ],
      "metadata": {
        "colab": {
          "base_uri": "https://localhost:8080/"
        },
        "id": "9AE10x7XYwXg",
        "outputId": "c148a3f4-cc60-45a4-dbbf-e687edf19bdf"
      },
      "execution_count": null,
      "outputs": [
        {
          "output_type": "stream",
          "name": "stdout",
          "text": [
            "Mi nombre es: Juan Pérez López el valor de pi es: 3.1416 En mi aula hay  40 Alumnos 👌😎\n"
          ]
        }
      ]
    },
    {
      "cell_type": "code",
      "source": [
        "num_alumnos=40 # aqui cree un numero entero\n",
        "pi=3.1416\n",
        "nombre_completo = 'Juan Pérez López'\n",
        "print(\"Mi nombre es:\",nombre_completo,\"\\n el valor de pi es:\",pi,\"\\n En mi aula hay \",num_alumnos:,\"Alumnos 👌😎\")"
      ],
      "metadata": {
        "colab": {
          "base_uri": "https://localhost:8080/"
        },
        "id": "Gk76WYtHZr92",
        "outputId": "eafa8d44-2157-496c-9ed1-767b79dbeb3b"
      },
      "execution_count": null,
      "outputs": [
        {
          "output_type": "stream",
          "name": "stdout",
          "text": [
            "Mi nombre es: Juan Pérez López \n",
            " el valor de pi es: 3.1416 \n",
            " En mi aula hay  40 Alumnos 👌😎\n"
          ]
        }
      ]
    },
    {
      "cell_type": "markdown",
      "source": [
        "# Operadores matematicos\n",
        "Los operadores matemáticos nos permitiran realizar todas las operaciones aprendidas durante la primaria y secundaria.\n",
        "\n",
        "\n",
        "```\n",
        "+\n",
        "-\n",
        "*\n",
        "/\n",
        "//\n",
        "%\n",
        "**\n",
        "```\n",
        "\n",
        "\n"
      ],
      "metadata": {
        "id": "iMeszqd3aKoB"
      }
    },
    {
      "cell_type": "code",
      "source": [
        "#Generacion de ejemplos de todos los operadores matemáticos básicos de python\n",
        "print('Operadores matemáticos básicos de python')\n",
        "a=2\n",
        "b=3\n",
        "print('Suma:',a+b)\n",
        "print('Resta',a-b)\n",
        "print('prod',a*b)\n",
        "print('Div',a/b)\n",
        "print('Modulo',b%a)\n",
        "print('Div entera',b//a)\n",
        "print('Potencia:',a**b)"
      ],
      "metadata": {
        "colab": {
          "base_uri": "https://localhost:8080/"
        },
        "id": "yjllUOW4aJuq",
        "outputId": "6546f433-cb2a-488b-a8b5-c4e81a7adef6"
      },
      "execution_count": null,
      "outputs": [
        {
          "output_type": "stream",
          "name": "stdout",
          "text": [
            "Operadores matemáticos básicos de python\n",
            "Suma: 5\n",
            "Resta -1\n",
            "prod 6\n",
            "Div 0.6666666666666666\n",
            "Modulo 1\n",
            "Div entera 1\n",
            "Potencia: 8\n"
          ]
        }
      ]
    },
    {
      "cell_type": "code",
      "source": [
        "#Generacion de ejemplos de todos los operadores matemáticos básicos de python\n",
        "print('Operadores matemáticos básicos de python')\n",
        "a=2\n",
        "b=3\n",
        "\n",
        "s1=a+b\n",
        "print('Suma:',s1)\n",
        "s2=a-b\n",
        "print('Resta',s2)\n",
        "s3=a*b\n",
        "print('prod',s3)\n",
        "s4=a/b\n",
        "print('Div',s4)\n",
        "s5=b%a\n",
        "print('Modulo',s5)\n",
        "s6=b//a\n",
        "print('Div entera',s6)\n",
        "s7=a**b\n",
        "print('Potencia:',s7)\n",
        "\n",
        "print(\"La suma de todos los resultados es:\")\n",
        "print(s1+s2+s3+s4+s5+s6+s7)"
      ],
      "metadata": {
        "colab": {
          "base_uri": "https://localhost:8080/"
        },
        "id": "wAHm10D3cWG0",
        "outputId": "cab35d70-dd87-4a3a-9cbe-42fea51a0941"
      },
      "execution_count": null,
      "outputs": [
        {
          "output_type": "stream",
          "name": "stdout",
          "text": [
            "Operadores matemáticos básicos de python\n",
            "Suma:\n",
            "Resta -1\n",
            "prod 6\n",
            "Div 0.6666666666666666\n",
            "Modulo 1\n",
            "Div entera 1\n",
            "Potencia: 8\n",
            "La suma de todos los resultados es:\n",
            "20.666666666666664\n"
          ]
        }
      ]
    },
    {
      "cell_type": "code",
      "source": [
        "name=input(\" Esc. tu nombre \")\n",
        "print(\"Hola \",name)"
      ],
      "metadata": {
        "colab": {
          "base_uri": "https://localhost:8080/"
        },
        "id": "hgHaGyghdZvV",
        "outputId": "b964fb6f-8ebe-42df-8365-55263c181d90"
      },
      "execution_count": null,
      "outputs": [
        {
          "output_type": "stream",
          "name": "stdout",
          "text": [
            " Esc. tu nombre Arturo\n",
            "Hola  Arturo\n"
          ]
        }
      ]
    },
    {
      "cell_type": "code",
      "source": [
        "name=input(\" Esc. tu nombre \")\n",
        "edad=input(\" Esc. tu edad \")\n",
        "print(\"Hola \",name,\"  tu edad es \",edad)"
      ],
      "metadata": {
        "colab": {
          "base_uri": "https://localhost:8080/"
        },
        "id": "R_Ad2pGeeAus",
        "outputId": "d689ae0a-1d82-42ce-df0e-9c308c239961"
      },
      "execution_count": null,
      "outputs": [
        {
          "output_type": "stream",
          "name": "stdout",
          "text": [
            " Esc. tu nombre Arturo\n",
            " Esc. tu edad 39\n",
            "Hola  Arturo   tu edad es  39\n"
          ]
        }
      ]
    },
    {
      "cell_type": "code",
      "source": [
        "name=input(\" Esc. tu nombre \")\n",
        "edad=input(\" Esc. tu edad \")\n",
        "edadn=int(edad)\n",
        "print(\"Hola \",name,\"  naciste en el año \",2025-edadn)"
      ],
      "metadata": {
        "colab": {
          "base_uri": "https://localhost:8080/"
        },
        "id": "SAEZU6pKeVjU",
        "outputId": "4a897ece-9603-456e-9c93-712f22f8544a"
      },
      "execution_count": null,
      "outputs": [
        {
          "output_type": "stream",
          "name": "stdout",
          "text": [
            " Esc. tu nombre arturo\n",
            " Esc. tu edad 39\n",
            "Hola  arturo   naciste en el año  1986\n"
          ]
        }
      ]
    },
    {
      "cell_type": "code",
      "source": [
        "name=input(\" Esc. tu nombre \")\n",
        "edad=int (input(\" Esc. tu edad \"))\n",
        "print(\"Hola \",name,\"  naciste en el año \",2025-edad)"
      ],
      "metadata": {
        "colab": {
          "base_uri": "https://localhost:8080/"
        },
        "id": "atDPZxgheq0x",
        "outputId": "449c9b42-d41b-4a2b-e13a-0e47a1c99055"
      },
      "execution_count": null,
      "outputs": [
        {
          "output_type": "stream",
          "name": "stdout",
          "text": [
            " Esc. tu nombre arturo\n",
            " Esc. tu edad 39\n",
            "Hola  arturo   naciste en el año  1986\n"
          ]
        }
      ]
    },
    {
      "cell_type": "code",
      "source": [
        "name=input(\" Esc. tu nombre \")\n",
        "peso=float (input(\" Esc. tu peso \"))\n",
        "print(\"Hola \",name,\"  Tu peso actual es \",peso,\"Kg\")"
      ],
      "metadata": {
        "colab": {
          "base_uri": "https://localhost:8080/"
        },
        "id": "a65rbMKje6iz",
        "outputId": "4583cf74-8e34-45ce-acd0-4054f693718a"
      },
      "execution_count": null,
      "outputs": [
        {
          "output_type": "stream",
          "name": "stdout",
          "text": [
            " Esc. tu nombre arturo\n",
            " Esc. tu peso 90\n",
            "Hola  arturo   Tu peso actual es  90.0 Kg\n"
          ]
        }
      ]
    }
  ]
}