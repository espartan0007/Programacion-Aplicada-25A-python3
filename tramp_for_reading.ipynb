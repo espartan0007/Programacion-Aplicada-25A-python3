{
  "nbformat": 4,
  "nbformat_minor": 0,
  "metadata": {
    "colab": {
      "provenance": [],
      "authorship_tag": "ABX9TyOy6jQhH96+03Xvu/gZiUIz",
      "include_colab_link": true
    },
    "kernelspec": {
      "name": "python3",
      "display_name": "Python 3"
    },
    "language_info": {
      "name": "python"
    }
  },
  "cells": [
    {
      "cell_type": "markdown",
      "metadata": {
        "id": "view-in-github",
        "colab_type": "text"
      },
      "source": [
        "<a href=\"https://colab.research.google.com/github/espartan0007/Programacion-Aplicada-25A-python3/blob/main/tramp_for_reading.ipynb\" target=\"_parent\"><img src=\"https://colab.research.google.com/assets/colab-badge.svg\" alt=\"Open In Colab\"/></a>"
      ]
    },
    {
      "cell_type": "markdown",
      "source": [
        "Try and Except\n",
        "\n",
        "Estructura para probar cosas que pueden fallar y se desea un el manejo de errores."
      ],
      "metadata": {
        "id": "7OqGpVN9cpEe"
      }
    },
    {
      "cell_type": "code",
      "source": [
        "a=100/0"
      ],
      "metadata": {
        "colab": {
          "base_uri": "https://localhost:8080/",
          "height": 141
        },
        "id": "RcFFxuXkdtvv",
        "outputId": "92a30b2f-a0ef-4cbd-ee3f-444443764a46"
      },
      "execution_count": 2,
      "outputs": [
        {
          "output_type": "error",
          "ename": "ZeroDivisionError",
          "evalue": "division by zero",
          "traceback": [
            "\u001b[0;31m---------------------------------------------------------------------------\u001b[0m",
            "\u001b[0;31mZeroDivisionError\u001b[0m                         Traceback (most recent call last)",
            "\u001b[0;32m<ipython-input-2-cc2640765277>\u001b[0m in \u001b[0;36m<cell line: 0>\u001b[0;34m()\u001b[0m\n\u001b[0;32m----> 1\u001b[0;31m \u001b[0ma\u001b[0m\u001b[0;34m=\u001b[0m\u001b[0;36m100\u001b[0m\u001b[0;34m/\u001b[0m\u001b[0;36m0\u001b[0m\u001b[0;34m\u001b[0m\u001b[0;34m\u001b[0m\u001b[0m\n\u001b[0m",
            "\u001b[0;31mZeroDivisionError\u001b[0m: division by zero"
          ]
        }
      ]
    },
    {
      "cell_type": "code",
      "source": [
        "try:\n",
        "  x=int(input(\"Ingresa un numero: \"))\n",
        "  a=100/x\n",
        "except:\n",
        "  print(\"No se puede dividir por cero\")"
      ],
      "metadata": {
        "colab": {
          "base_uri": "https://localhost:8080/"
        },
        "id": "3pQ2jnxUcnvt",
        "outputId": "8e436a78-d494-42ed-d22e-bfa3ad81b05f"
      },
      "execution_count": 4,
      "outputs": [
        {
          "output_type": "stream",
          "name": "stdout",
          "text": [
            "Ingresa un numero: 0\n",
            "No se puede dividir por cero\n"
          ]
        }
      ]
    },
    {
      "cell_type": "code",
      "source": [
        "def leer_entero(x):\n",
        "  pass\n",
        "\n",
        "#Main\n",
        "\n",
        "valor=leer_entero(5)\n",
        "print(valor)"
      ],
      "metadata": {
        "id": "UG1F3RNJeA96"
      },
      "execution_count": null,
      "outputs": []
    },
    {
      "cell_type": "code",
      "source": [
        "def leer_entero():\n",
        "  while True:\n",
        "    try:\n",
        "      x=int(input(\"Ingresa un numero: \"))\n",
        "      if x==0:\n",
        "        raise ValueError\n",
        "      else:\n",
        "        return x\n",
        "    except:\n",
        "      print(\"el entero debe ser diferente de cero\")\n",
        "\n",
        "#Main\n",
        "valor=leer_entero()\n",
        "print(valor)\n",
        "\n",
        "a=100/valor\n",
        "print(a)"
      ],
      "metadata": {
        "colab": {
          "base_uri": "https://localhost:8080/"
        },
        "id": "Uok2hIkLeYVv",
        "outputId": "dd4badf7-8a62-4a4b-8a30-70535681e21b"
      },
      "execution_count": 6,
      "outputs": [
        {
          "output_type": "stream",
          "name": "stdout",
          "text": [
            "Ingresa un numero: 0\n",
            "el entero debe ser diferente de cero\n",
            "Ingresa un numero: 0\n",
            "el entero debe ser diferente de cero\n",
            "Ingresa un numero: 0\n",
            "el entero debe ser diferente de cero\n",
            "Ingresa un numero: 0\n",
            "el entero debe ser diferente de cero\n",
            "Ingresa un numero: 0\n",
            "el entero debe ser diferente de cero\n",
            "Ingresa un numero: 0\n",
            "el entero debe ser diferente de cero\n",
            "Ingresa un numero: 0\n",
            "el entero debe ser diferente de cero\n",
            "Ingresa un numero: 1\n",
            "1\n",
            "100.0\n"
          ]
        }
      ]
    },
    {
      "cell_type": "code",
      "source": [
        "def leer_entero():\n",
        "  while True:\n",
        "    try:\n",
        "      x=int(input(\"Ingresa un numero: \"))\n",
        "      if x>=1 and x<=130:\n",
        "        return x\n",
        "      else:\n",
        "        raise ValueError\n",
        "\n",
        "    except:\n",
        "      print(\"La edad debe estar entre 1-130 años\")\n",
        "\n",
        "#Main\n",
        "valor=leer_entero()\n",
        "\n",
        "edad=valor\n",
        "print(edad)"
      ],
      "metadata": {
        "colab": {
          "base_uri": "https://localhost:8080/"
        },
        "id": "3Tpg9xzMfTiG",
        "outputId": "14b49623-2bcb-4452-b02d-d6ab9f6d3b6f"
      },
      "execution_count": 9,
      "outputs": [
        {
          "output_type": "stream",
          "name": "stdout",
          "text": [
            "Ingresa un numero: -1\n",
            "La edad debe estar entre 1-130 años\n",
            "Ingresa un numero: -200\n",
            "La edad debe estar entre 1-130 años\n",
            "Ingresa un numero: 200\n",
            "La edad debe estar entre 1-130 años\n",
            "Ingresa un numero: 45\n",
            "45\n"
          ]
        }
      ]
    },
    {
      "cell_type": "code",
      "source": [
        "def leer_calif():\n",
        "  while True:\n",
        "    try:\n",
        "      x=int(input(\"Ingresa tu calificacion estilo SEP\"))\n",
        "      if x>=60 and x<=100:\n",
        "        return x\n",
        "      else:\n",
        "        raise ValueError\n",
        "\n",
        "    except:\n",
        "      print(\"La calif minima debe ser  59 \")\n",
        "      return 59\n",
        "\n",
        "#Main\n",
        "calif=leer_calif()\n",
        "\n",
        "\n",
        "print(calif)"
      ],
      "metadata": {
        "colab": {
          "base_uri": "https://localhost:8080/"
        },
        "id": "DdNgwbl2gXnJ",
        "outputId": "899b4af6-cb74-4b43-d46e-4bbd2a9def8f"
      },
      "execution_count": 11,
      "outputs": [
        {
          "output_type": "stream",
          "name": "stdout",
          "text": [
            "Ingresa tu calificacion estilo SEP30\n",
            "La calif minima debe ser  59 \n",
            "59\n"
          ]
        }
      ]
    },
    {
      "cell_type": "code",
      "source": [
        "def leer_gen():\n",
        "  while True:\n",
        "    try:\n",
        "      print(\"Ingresa tu Genero\")\n",
        "      x=input(\"F, M u N\")\n",
        "      if x.upper() ==\"F\" or x.upper()==\"M\" or x.upper()==\"N\":\n",
        "        return x.upper()\n",
        "      else:\n",
        "        raise ValueError\n",
        "\n",
        "    except:\n",
        "      print(\"Solo existen las opciones F , M y N\")\n",
        "\n",
        "\n",
        "#Main\n",
        "calif=leer_gen()\n",
        "\n",
        "print(calif)"
      ],
      "metadata": {
        "colab": {
          "base_uri": "https://localhost:8080/"
        },
        "id": "gBS65e_FhT4n",
        "outputId": "b9a1d1a0-8844-45eb-f390-1970704e3ebc"
      },
      "execution_count": 14,
      "outputs": [
        {
          "output_type": "stream",
          "name": "stdout",
          "text": [
            "Ingresa tu Genero\n",
            "F, M u Nf\n",
            "F\n"
          ]
        }
      ]
    },
    {
      "cell_type": "code",
      "source": [
        "def leer_gen():\n",
        "  while True:\n",
        "    try:\n",
        "      print(\"Ingresa tu Genero\")\n",
        "      x=input(\"F, M u N\")\n",
        "      if x.upper() ==\"F\" or x.upper()==\"M\" or x.upper()==\"N\":\n",
        "        return x.upper()\n",
        "      else:\n",
        "        raise ValueError\n",
        "\n",
        "    except:\n",
        "      print(\"Solo existen las opciones F , M y N\")\n",
        "\n",
        "\n",
        "#Main\n",
        "calif=leer_gen()\n",
        "\n",
        "print(calif)"
      ],
      "metadata": {
        "id": "lvP89AcOjFGX"
      },
      "execution_count": null,
      "outputs": []
    },
    {
      "cell_type": "code",
      "source": [
        "from datetime import date\n",
        "\n",
        "# date object of today's date\n",
        "today = date.today()\n",
        "\n",
        "print(\"Current year:\", today.year)\n",
        "print(\"Current month:\", today.month)\n",
        "print(\"Current day:\", today.day)"
      ],
      "metadata": {
        "colab": {
          "base_uri": "https://localhost:8080/"
        },
        "id": "31-hc9qXjXAy",
        "outputId": "f6614e1f-9294-464e-9075-7c7cc3b8f1d7"
      },
      "execution_count": 15,
      "outputs": [
        {
          "output_type": "stream",
          "name": "stdout",
          "text": [
            "Current year: 2025\n",
            "Current month: 3\n",
            "Current day: 11\n"
          ]
        }
      ]
    },
    {
      "cell_type": "code",
      "source": [
        "# Python program to\n",
        "# demonstrate date class\n",
        "\n",
        "# import the date class\n",
        "from datetime import date\n",
        "\n",
        "\n",
        "my_date = date(1996, 12, 11)#  year, month, and date.\n",
        "\n",
        "print(\"Date passed as argument is\", my_date)"
      ],
      "metadata": {
        "id": "Mh8YWe8dlCRB"
      },
      "execution_count": null,
      "outputs": []
    },
    {
      "cell_type": "code",
      "source": [
        "from datetime import date\n",
        "\n",
        "today = date.today()\n",
        "\n",
        "def leer_mes():\n",
        "  while True:\n",
        "    try:\n",
        "      x=int(input(\"Ingresa el mes\"))\n",
        "      if x>=1 and x<=12:\n",
        "        return x\n",
        "      else:\n",
        "        raise ValueError\n",
        "\n",
        "    except:\n",
        "      print(\"mes solo puede ser 1-12 \")\n",
        "\n",
        "def leer_dia():\n",
        "  while True:\n",
        "    try:\n",
        "      x=int(input(\"Ingresa el dia\"))\n",
        "      if x>=1 and x<=31:\n",
        "        return x\n",
        "      else:\n",
        "        raise ValueError\n",
        "\n",
        "    except:\n",
        "      print(\"dia solo puede ser 1-31 \")\n",
        "\n",
        "def leer_date(today):\n",
        "  while True:\n",
        "    try:\n",
        "      dia=leer_dia()\n",
        "      mes=leer_mes()\n",
        "\n",
        "      year=int(input(\"Escribe el Año\") )\n",
        "      if year<= today.year:\n",
        "        #return [dia,mes,year]\n",
        "        return   date(year,mes,dia)# year, month, and date.\n",
        "      else:\n",
        "        raise ValueError\n",
        "    except:\n",
        "      print(\"No se pueden poner fechas futuristas\")\n",
        "\n",
        "\n",
        "#Main\n",
        "fecha=leer_date(today)\n",
        "\n",
        "print(fecha.year)\n",
        "print(fecha.month)\n",
        "print(fecha.day)"
      ],
      "metadata": {
        "colab": {
          "base_uri": "https://localhost:8080/"
        },
        "id": "sfGBtMAdjjzD",
        "outputId": "0f37dbc1-8597-43f4-9d6b-36608a6804cc"
      },
      "execution_count": 2,
      "outputs": [
        {
          "output_type": "stream",
          "name": "stdout",
          "text": [
            "Ingresa el dia27\n",
            "Ingresa el mes30\n",
            "mes solo puede ser 1-12 \n",
            "Ingresa el mes11\n",
            "Escribe el Año2099\n",
            "No se pueden poner fechas futuristas\n",
            "Ingresa el dia27\n",
            "Ingresa el mes11\n",
            "Escribe el Año2024\n",
            "2024\n",
            "11\n",
            "27\n"
          ]
        }
      ]
    }
  ]
}