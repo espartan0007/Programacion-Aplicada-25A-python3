{
  "nbformat": 4,
  "nbformat_minor": 0,
  "metadata": {
    "colab": {
      "provenance": [],
      "authorship_tag": "ABX9TyP+pzEkOulD3eyLKV5XQO5T",
      "include_colab_link": true
    },
    "kernelspec": {
      "name": "python3",
      "display_name": "Python 3"
    },
    "language_info": {
      "name": "python"
    }
  },
  "cells": [
    {
      "cell_type": "markdown",
      "metadata": {
        "id": "view-in-github",
        "colab_type": "text"
      },
      "source": [
        "<a href=\"https://colab.research.google.com/github/espartan0007/Programacion-Aplicada-25A-python3/blob/main/Diccionarios.ipynb\" target=\"_parent\"><img src=\"https://colab.research.google.com/assets/colab-badge.svg\" alt=\"Open In Colab\"/></a>"
      ]
    },
    {
      "cell_type": "code",
      "source": [
        "#dictionary\n",
        "dc={\"arbol\":\"Especimen vegatal que esta constituido por un tronco,ramas y follaje generalmente de altura mayor a 1 mt.\"}\n",
        "# creacion o definicion de un diccionario llamado dc\n",
        "#Elemento clave PA valor asociado a el 90\n",
        "print(dc[\"arbol\"])"
      ],
      "metadata": {
        "colab": {
          "base_uri": "https://localhost:8080/"
        },
        "id": "KdEwQLLB5ys9",
        "outputId": "8fe1cad4-3610-4460-b588-65722ab2c2d7"
      },
      "execution_count": 3,
      "outputs": [
        {
          "output_type": "stream",
          "name": "stdout",
          "text": [
            "Especimen vegatal que esta constituido por un tronco,ramas y follaje generalmente de altura mayor a 1 mt.\n"
          ]
        }
      ]
    },
    {
      "cell_type": "code",
      "execution_count": 1,
      "metadata": {
        "colab": {
          "base_uri": "https://localhost:8080/"
        },
        "id": "UtOS2ZAX4iuy",
        "outputId": "7a4c8505-b5c0-4014-80fd-29e96446c20e"
      },
      "outputs": [
        {
          "output_type": "stream",
          "name": "stdout",
          "text": [
            "90\n"
          ]
        }
      ],
      "source": [
        "#dictionary\n",
        "dc={\"PA\":90}\n",
        "# creacion o definicion de un diccionario llamado dc\n",
        "#Elemento clave PA valor asociado a el 90\n",
        "print(dc[\"PA\"])"
      ]
    },
    {
      "cell_type": "code",
      "source": [
        "d = {1: \"geeks\", 2: \"for\"}\n",
        "\n",
        "# using clear() to remove all items\n",
        "d.clear()\n",
        "print(d)"
      ],
      "metadata": {
        "colab": {
          "base_uri": "https://localhost:8080/"
        },
        "id": "YY2MICtx6X5M",
        "outputId": "5a2440e5-8612-43c4-e261-413a5dac9004"
      },
      "execution_count": 4,
      "outputs": [
        {
          "output_type": "stream",
          "name": "stdout",
          "text": [
            "{}\n"
          ]
        }
      ]
    },
    {
      "cell_type": "code",
      "source": [
        "original = {1: 'geeks', 2: 'for'}\n",
        "\n",
        "# copying using copy() function\n",
        "new = original.copy()\n",
        "\n",
        "# removing all elements from the list\n",
        "# Only new list becomes empty as copy()\n",
        "# does shallow copy.\n",
        "new.clear()\n",
        "\n",
        "print('new: ', new)\n",
        "print('original: ', original)\n"
      ],
      "metadata": {
        "colab": {
          "base_uri": "https://localhost:8080/"
        },
        "id": "TovQ9n2-7tDC",
        "outputId": "be8c567a-28ad-4e9e-b72f-81199490d121"
      },
      "execution_count": 5,
      "outputs": [
        {
          "output_type": "stream",
          "name": "stdout",
          "text": [
            "new:  {}\n",
            "original:  {1: 'geeks', 2: 'for'}\n"
          ]
        }
      ]
    },
    {
      "cell_type": "code",
      "source": [
        "seq = {'a', 'b', 'c', 'd', 'e'}\n",
        "\n",
        "# creating dict with default values as None\n",
        "\n",
        "# creating dict with default values as 1\n",
        "res_dict2 = dict.fromkeys(seq, 1)\n",
        "\n",
        "print(\"The newly created dict with 1 as value : \" + str(res_dict2))\n"
      ],
      "metadata": {
        "colab": {
          "base_uri": "https://localhost:8080/"
        },
        "id": "xCQU7H3B7_uI",
        "outputId": "b57ae6c2-5584-4ff0-d24b-5ed9237a06f8"
      },
      "execution_count": 7,
      "outputs": [
        {
          "output_type": "stream",
          "name": "stdout",
          "text": [
            "The newly created dict with 1 as value : {'e': 1, 'b': 1, 'd': 1, 'a': 1, 'c': 1}\n"
          ]
        }
      ]
    },
    {
      "cell_type": "code",
      "source": [
        "d = {'coding': 'good', 'thinking': 'better'}\n",
        "print(d.get('coding'))"
      ],
      "metadata": {
        "colab": {
          "base_uri": "https://localhost:8080/"
        },
        "id": "cToPyELM8wXz",
        "outputId": "efb474b1-eada-4ade-9d8e-bd276c5a69e0"
      },
      "execution_count": 9,
      "outputs": [
        {
          "output_type": "stream",
          "name": "stdout",
          "text": [
            "good\n"
          ]
        }
      ]
    },
    {
      "cell_type": "code",
      "source": [
        "d = {'A': 'Python', 'B': 'Java', 'C': 'C++'}\n",
        "\n",
        "# using items() to get all key-value pairs\n",
        "items = d.items()\n",
        "\n",
        "#print(items)\n",
        "#print( type(items) )\n",
        "q=list(items)\n",
        "print(q[2]  )\n"
      ],
      "metadata": {
        "colab": {
          "base_uri": "https://localhost:8080/"
        },
        "id": "9qtmWp-89Eet",
        "outputId": "45398e6e-33d3-4b1f-d26f-2550a8ec496e"
      },
      "execution_count": 19,
      "outputs": [
        {
          "output_type": "stream",
          "name": "stdout",
          "text": [
            "('C', 'C++')\n"
          ]
        }
      ]
    },
    {
      "cell_type": "code",
      "source": [
        "d = {'A': 'Geeks', 'B': 'For', 'C': 'Geeks'}\n",
        "# Using keys() to get all keys from the dictionary\n",
        "k = d.keys()\n",
        "\n",
        "print(k)\n"
      ],
      "metadata": {
        "colab": {
          "base_uri": "https://localhost:8080/"
        },
        "id": "ryPZdq-p-RoC",
        "outputId": "2d478b5f-32a5-4ea2-b664-0d1a6b362f4e"
      },
      "execution_count": 20,
      "outputs": [
        {
          "output_type": "stream",
          "name": "stdout",
          "text": [
            "dict_keys(['A', 'B', 'C'])\n"
          ]
        }
      ]
    },
    {
      "cell_type": "code",
      "source": [
        "# inializing dictionary student\n",
        "student = {\"rahul\":7, \"Aditya\":1, \"Shubham\":4}\n",
        "\n",
        "# priting original dictionary\n",
        "print(student)\n",
        "\n",
        "# using dictionary pop\n",
        "suspended = student.pop(\"rahul\")\n",
        "\n",
        "# checking key of the element\n",
        "print(\"suspended student roll no. = \"+ str(suspended))\n",
        "\n",
        "# printing list after performing pop()\n",
        "print(\"remaining student\" + str(student))\n"
      ],
      "metadata": {
        "colab": {
          "base_uri": "https://localhost:8080/"
        },
        "id": "Ne9C5Y4Y-Xes",
        "outputId": "54d69df9-1ff6-4ff3-9851-2cd9de5bcb22"
      },
      "execution_count": 22,
      "outputs": [
        {
          "output_type": "stream",
          "name": "stdout",
          "text": [
            "{'rahul': 7, 'Aditya': 1, 'Shubham': 4}\n",
            "suspended student roll no. = 7\n",
            "remaining student{'Aditya': 1, 'Shubham': 4}\n"
          ]
        }
      ]
    },
    {
      "cell_type": "code",
      "source": [
        "d = {1: '001', 2: '010', 3: '011'}\n",
        "\n",
        "# Using popitem() to remove and return the last item\n",
        "res = d.popitem()\n",
        "print(res)\n",
        "print(d)\n"
      ],
      "metadata": {
        "colab": {
          "base_uri": "https://localhost:8080/"
        },
        "id": "g1zP0_kL-ocg",
        "outputId": "e1cfb979-ed9b-4462-fe1c-9702de0f9c5d"
      },
      "execution_count": 23,
      "outputs": [
        {
          "output_type": "stream",
          "name": "stdout",
          "text": [
            "(3, '011')\n",
            "{1: '001', 2: '010'}\n"
          ]
        }
      ]
    },
    {
      "cell_type": "code",
      "source": [
        "d = {'a': 97, 'b': 98, 'c': 99, 'd': 100}\n",
        "# space key added using setdefault() method\n",
        "d.setdefault('@', 64)\n",
        "print(d)\n"
      ],
      "metadata": {
        "colab": {
          "base_uri": "https://localhost:8080/"
        },
        "id": "3tpurbza-2Nh",
        "outputId": "fb140476-70d9-43b4-e4ce-7f91ed66b3d4"
      },
      "execution_count": 25,
      "outputs": [
        {
          "output_type": "stream",
          "name": "stdout",
          "text": [
            "{'a': 97, 'b': 98, 'c': 99, 'd': 100, '@': 64}\n"
          ]
        }
      ]
    },
    {
      "cell_type": "code",
      "source": [
        "d = {'A': 'Python', 'B': 'Java', 'C': 'C++'}\n",
        "\n",
        "# using values() to get all values\n",
        "v = d.values()\n",
        "\n",
        "print(v)\n",
        "print(type(list(v)))"
      ],
      "metadata": {
        "colab": {
          "base_uri": "https://localhost:8080/"
        },
        "id": "UPi-o6r8-9M3",
        "outputId": "597dfee8-e942-4afa-d799-33cd259ada23"
      },
      "execution_count": 29,
      "outputs": [
        {
          "output_type": "stream",
          "name": "stdout",
          "text": [
            "dict_values(['Python', 'Java', 'C++'])\n",
            "<class 'list'>\n"
          ]
        }
      ]
    },
    {
      "cell_type": "code",
      "source": [
        "# update() method in Dictionary\n",
        "\n",
        "# Dictionary with three items\n",
        "d1 = {'A': 'Geeks', 'B': 'For', }\n",
        "d2 = {'B': 'Geeks', 'C': 'Python'}\n",
        "\n",
        "\n",
        "# update the value of key 'B'\n",
        "d1.update(d2)\n",
        "print(d1)\n",
        "\n",
        "# using keyword arguments\n",
        "d1.update(A='Hello')\n",
        "\n",
        "print(d1)\n"
      ],
      "metadata": {
        "colab": {
          "base_uri": "https://localhost:8080/"
        },
        "id": "corX0I1N-8xZ",
        "outputId": "f0a009c7-ee56-4385-e2cf-dce76bf47bab"
      },
      "execution_count": 32,
      "outputs": [
        {
          "output_type": "stream",
          "name": "stdout",
          "text": [
            "{'A': 'Geeks', 'B': 'Geeks', 'C': 'Python'}\n",
            "{'A': 'Hello', 'B': 'Geeks', 'C': 'Python'}\n"
          ]
        }
      ]
    },
    {
      "cell_type": "code",
      "source": [
        "#Diseñe y codifique un algoritmo  que aplique diferentes aranceles a diferentes paises.\n",
        "# Noruega : Autos +10% , Acero +1% Petroleo +15%\n",
        "# Japón : Autos +20% , Acero +5% Petroleo +5%\n",
        "# Cánada : Autos +25% , Acero +4% Petroleo +19%\n",
        "\n",
        "#Todo apatir de datos de entrada de exportacion .\n",
        "\n",
        "country=input(\"Escribe el pais\")\n",
        "\n",
        "di={\"no\":[10,1,15],\"jp\":[20,5,5],\"ca\":[25,4,19]}\n",
        "\n",
        "li=di[country]\n",
        "\n",
        "total_apagar=0\n",
        "for aran in li:\n",
        "  v1=float(input(\"escribe el valor> \") )\n",
        "  temp=v1*(1+(aran/100)) # formulas % +\n",
        "  total_apagar += temp\n",
        "\n",
        "\n",
        "print(total_apagar)"
      ],
      "metadata": {
        "colab": {
          "base_uri": "https://localhost:8080/"
        },
        "id": "OR-yoRa-_2Q3",
        "outputId": "4c80ea8c-9295-4dcc-d9e7-9fe8a35494b1"
      },
      "execution_count": 35,
      "outputs": [
        {
          "output_type": "stream",
          "name": "stdout",
          "text": [
            "Escribe el paisno\n",
            "escribe el valor> 1\n",
            "escribe el valor> 1\n",
            "escribe el valor> 1\n",
            "3.2600000000000002\n"
          ]
        }
      ]
    },
    {
      "cell_type": "code",
      "source": [
        "country=input(\"Escribe el pais\")\n",
        "\n",
        "di={\"no\":[10,1,15],\"jp\":[20,5,5],\"ca\":[25,4,19]}\n",
        "labels={\"no\":[\"Autos\",\"Acero\",\"Petroleo\"],\"jp\":[\"Autos\",\"Acero\",\"Petroleo\"],\"ca\":[\"Autos\",\"Acero\",\"Petroleo\"]}\n",
        "\n",
        "claves=list(di.keys())\n",
        "if country in claves:\n",
        "  li=di[country]\n",
        "  lbls=labels[country]\n",
        "\n",
        "  total_apagar=0\n",
        "  for i in range(3):\n",
        "    print(lbls[i])\n",
        "\n",
        "    v1=float(input(\"escribe el valor> \") )\n",
        "    temp=v1*(1+(li[i]/100)) # formulas % +\n",
        "    total_apagar += temp\n",
        "  print(total_apagar)\n",
        "\n",
        "else:\n",
        "  print(\"Esa clave de pais no existe\")"
      ],
      "metadata": {
        "colab": {
          "base_uri": "https://localhost:8080/"
        },
        "id": "M7y6bw4zDuCV",
        "outputId": "4ce9a0fe-8742-4dc3-bf63-eecfa2385f25"
      },
      "execution_count": 37,
      "outputs": [
        {
          "output_type": "stream",
          "name": "stdout",
          "text": [
            "Escribe el paisno\n",
            "Autos\n",
            "escribe el valor> 2\n",
            "Acero\n",
            "escribe el valor> 1\n",
            "Petroleo\n",
            "escribe el valor> 2\n",
            "5.51\n"
          ]
        }
      ]
    }
  ]
}