{
  "nbformat": 4,
  "nbformat_minor": 0,
  "metadata": {
    "colab": {
      "provenance": [],
      "authorship_tag": "ABX9TyOSrsXokRVw+zxI2ZP42ToP",
      "include_colab_link": true
    },
    "kernelspec": {
      "name": "python3",
      "display_name": "Python 3"
    },
    "language_info": {
      "name": "python"
    }
  },
  "cells": [
    {
      "cell_type": "markdown",
      "metadata": {
        "id": "view-in-github",
        "colab_type": "text"
      },
      "source": [
        "<a href=\"https://colab.research.google.com/github/espartan0007/Programacion-Aplicada-25A-python3/blob/main/if_else_2024b.ipynb\" target=\"_parent\"><img src=\"https://colab.research.google.com/assets/colab-badge.svg\" alt=\"Open In Colab\"/></a>"
      ]
    },
    {
      "cell_type": "markdown",
      "source": [
        "Diseñe y codifique un algoritmo en python 3 que nos indique la valides de un valor el cual no puede ser negativo.Indicar mediante texto si se cumple la condición o no."
      ],
      "metadata": {
        "id": "2S1LhoViCbqW"
      }
    },
    {
      "cell_type": "code",
      "source": [
        "edad=int(input(\"Que edad tienes ? \"))\n",
        "\n",
        "#if edad >= 18 and edad <=99:\n",
        "if edad <=99 and edad >= 18:\n",
        "  print(\"Puedes egresar de la Preparatoria\")\n",
        "  print(\"😎\")\n",
        "  print(\"Y obvio entraras a CUCEI\")\n",
        "else:\n",
        "  print(\"Todavía te falta para estudiar en CUCEI\")\n",
        "\n",
        "print(\"\\n Fin del programa \")"
      ],
      "metadata": {
        "colab": {
          "base_uri": "https://localhost:8080/"
        },
        "id": "dAZnsdSLTFD6",
        "outputId": "4b65ed43-d98f-439b-9ce8-9d682a0d29c3"
      },
      "execution_count": 8,
      "outputs": [
        {
          "output_type": "stream",
          "name": "stdout",
          "text": [
            "Que edad tienes ? 44\n",
            "Puedes egresar de la Preparatoria\n",
            "😎\n",
            "Y obvio entraras a CUCEI\n",
            "\n",
            " Fin del programa \n"
          ]
        }
      ]
    },
    {
      "cell_type": "code",
      "execution_count": null,
      "metadata": {
        "id": "D5SGUSZjCYul"
      },
      "outputs": [],
      "source": [
        "val=float(input(\"Escribe un valor \"))\n",
        "\n",
        "if val >=0:\n",
        "  print(\"El valor es positivo o cero\")\n",
        "else:\n",
        "  print(\"El valor es negativo\")\n",
        "\n",
        "print(\"Fin del programa 😎\")"
      ]
    },
    {
      "cell_type": "code",
      "source": [
        "a=float(input(\"Escribe a \") )\n",
        "b=float(input(\"Escribe b \") )\n",
        "c=float(input(\"Escribe c \") )\n",
        "d=float(input(\"Escribe d \") )\n",
        "e=float(input(\"Escribe e \") )\n",
        "if (a*b*c*d*e) != 0 :\n",
        "  res=(  (a**2+b**2+c**2)/( (d-1)+ (e-2) ) )**0.5\n",
        "  print(\"El resultado es\",res)\n",
        "else:\n",
        "  print(\"Existe un valor es negativo en las entradas de la formula \")\n",
        "\n",
        "print(\"Fin del programa 😎\")"
      ],
      "metadata": {
        "id": "rkuyPAXuGmHx",
        "colab": {
          "base_uri": "https://localhost:8080/"
        },
        "outputId": "0bceabc6-eb20-41c7-9dd1-9b82fa5d5ace"
      },
      "execution_count": null,
      "outputs": [
        {
          "output_type": "stream",
          "name": "stdout",
          "text": [
            "Escribe a 1\n",
            "Escribe b 2\n",
            "Escribe c 3\n",
            "Escribe d 4\n",
            "Escribe e 5\n",
            "El resultado es 1.5275252316519468\n",
            "Fin del programa 😎\n"
          ]
        }
      ]
    },
    {
      "cell_type": "markdown",
      "source": [
        "Diseñe y codifique en python 3 un algoritmo que me indique mediante texto si soy mayor de edad y en caso de que no lo sea me indique cuantos años me faltan para la mayoria de edad."
      ],
      "metadata": {
        "id": "HSFOisgZJbQW"
      }
    },
    {
      "cell_type": "code",
      "source": [
        "edad=float(input(\"Escribe tu edad \"))\n",
        "\n",
        "if edad >=18:\n",
        "  print(\"Eres mayor de edad ya puedes tramitar tu INE\")\n",
        "else:\n",
        "  dif=18-edad\n",
        "  #print(\"No lo eres, te faltan\",dif)\n",
        "  print(f\"No lo eres, te faltan {dif}\")\n",
        "\n",
        "print(\"Fin del programa \")"
      ],
      "metadata": {
        "colab": {
          "base_uri": "https://localhost:8080/"
        },
        "id": "BZm0wUyoJNMO",
        "outputId": "fa72ae4f-30b3-437f-d22f-7b68e49b3153"
      },
      "execution_count": null,
      "outputs": [
        {
          "output_type": "stream",
          "name": "stdout",
          "text": [
            "Escribe tu edad 1\n",
            "No lo eres, te faltan 17.0\n",
            "Fin del programa \n"
          ]
        }
      ]
    }
  ]
}