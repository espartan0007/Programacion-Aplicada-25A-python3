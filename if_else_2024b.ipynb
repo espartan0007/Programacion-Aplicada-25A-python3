{
  "nbformat": 4,
  "nbformat_minor": 0,
  "metadata": {
    "colab": {
      "provenance": [],
      "authorship_tag": "ABX9TyPxeisZGwBeZjn5IvyqBvdC",
      "include_colab_link": true
    },
    "kernelspec": {
      "name": "python3",
      "display_name": "Python 3"
    },
    "language_info": {
      "name": "python"
    }
  },
  "cells": [
    {
      "cell_type": "markdown",
      "metadata": {
        "id": "view-in-github",
        "colab_type": "text"
      },
      "source": [
        "<a href=\"https://colab.research.google.com/github/espartan0007/Programacion-Aplicada-25A-python3/blob/main/if_else_2024b.ipynb\" target=\"_parent\"><img src=\"https://colab.research.google.com/assets/colab-badge.svg\" alt=\"Open In Colab\"/></a>"
      ]
    },
    {
      "cell_type": "code",
      "source": [
        "a=-100\n",
        "\n",
        "if a == 100:\n",
        "  print(\"😎\")\n",
        "else:\n",
        "  print(\"😭\")\n"
      ],
      "metadata": {
        "colab": {
          "base_uri": "https://localhost:8080/"
        },
        "id": "KNwtS3ujVOwP",
        "outputId": "d02dcc17-3284-459e-f0b3-251ced9cb319"
      },
      "execution_count": null,
      "outputs": [
        {
          "output_type": "stream",
          "name": "stdout",
          "text": [
            "😭\n"
          ]
        }
      ]
    },
    {
      "cell_type": "code",
      "source": [
        "edad=int(input(\"Que edad tienes ? \"))\n",
        "\n",
        "if edad >= 18:\n",
        "  print(\"Puedes egresar de la Preparatoria\")\n",
        "  print(\"😎\")\n",
        "  print(\"Y obvio entraras a CUCEI\")\n",
        "else:\n",
        "  print(\"Todavía te falta para estudiar en CUCEI\")\n",
        "\n",
        "print(\"\\n Fin del programa \")"
      ],
      "metadata": {
        "id": "6Xf6il-aUv4w"
      },
      "execution_count": null,
      "outputs": []
    },
    {
      "cell_type": "markdown",
      "source": [
        "Diseñe y codifique un algoritmo en python 3 que nos indique la valides de un valor el cual no puede ser negativo.Indicar mediante texto si se cumple la condición o no."
      ],
      "metadata": {
        "id": "2S1LhoViCbqW"
      }
    },
    {
      "cell_type": "code",
      "source": [
        "edad=int(input(\"Que edad tienes ? \"))\n",
        "\n",
        "#if edad >= 18 and edad <=99:\n",
        "if edad <=99 and edad >= 18:\n",
        "  print(\"Puedes egresar de la Preparatoria\")\n",
        "  print(\"😎\")\n",
        "  print(\"Y obvio entraras a CUCEI\")\n",
        "else:\n",
        "  print(\"Todavía te falta para estudiar en CUCEI\")\n",
        "\n",
        "print(\"\\n Fin del programa \")"
      ],
      "metadata": {
        "colab": {
          "base_uri": "https://localhost:8080/"
        },
        "id": "dAZnsdSLTFD6",
        "outputId": "4b65ed43-d98f-439b-9ce8-9d682a0d29c3"
      },
      "execution_count": null,
      "outputs": [
        {
          "output_type": "stream",
          "name": "stdout",
          "text": [
            "Que edad tienes ? 44\n",
            "Puedes egresar de la Preparatoria\n",
            "😎\n",
            "Y obvio entraras a CUCEI\n",
            "\n",
            " Fin del programa \n"
          ]
        }
      ]
    },
    {
      "cell_type": "markdown",
      "source": [
        "Disene y codifique un algoritmo en python 3.x que TExtualmente afirma si **un valor es Cero o mayor**  o **si es negativo**"
      ],
      "metadata": {
        "id": "1XmHC9z7be3V"
      }
    },
    {
      "cell_type": "code",
      "execution_count": null,
      "metadata": {
        "id": "D5SGUSZjCYul"
      },
      "outputs": [],
      "source": [
        "val=float(input(\"Escribe un valor \"))\n",
        "\n",
        "if val >=0:\n",
        "  print(\"El valor es positivo o cero\")\n",
        "else:\n",
        "  print(\"El valor es negativo\")\n",
        "\n",
        "print(\"Fin del programa 😎\");"
      ]
    },
    {
      "cell_type": "markdown",
      "source": [
        "Disene y codifique un programa que Valide que un datos es un entero positivo y que se encuentra en cierto rango(33-88).En caso de no serlo solo se imprimira la frase ERROR y el valor introducido."
      ],
      "metadata": {
        "id": "uCfXQG3KcO7K"
      }
    },
    {
      "cell_type": "code",
      "source": [
        "if type(3.1416) == int:\n",
        "  print(\"Es un entero\")\n",
        "else:\n",
        "  print(\"No es un entero\")"
      ],
      "metadata": {
        "colab": {
          "base_uri": "https://localhost:8080/"
        },
        "id": "98U6MKiBcKrb",
        "outputId": "7c44eeee-47e2-4778-99a7-d71ccbcb01f4"
      },
      "execution_count": null,
      "outputs": [
        {
          "output_type": "stream",
          "name": "stdout",
          "text": [
            "No es un entero\n"
          ]
        }
      ]
    },
    {
      "cell_type": "code",
      "source": [
        "val=float(input(\"Escribe un valor \"))\n",
        "\n",
        "if val%1 == 0:\n",
        "  #print(\"Es un entero\")\n",
        "  if val >=33 and val <=88:\n",
        "    print(\"El valor esta en el rango y es entero\",val)\n",
        "  else:\n",
        "    print(\"El valor no esta en el rango pero es entero\",val)\n",
        "else:\n",
        "  print(\"ERROR\", val)\n",
        "\n",
        "print(\"Fin del programa 😎\");"
      ],
      "metadata": {
        "colab": {
          "base_uri": "https://localhost:8080/"
        },
        "id": "BlnRRi0ldOpO",
        "outputId": "78d5faf0-32f7-478e-d252-5144ccf07dea"
      },
      "execution_count": null,
      "outputs": [
        {
          "output_type": "stream",
          "name": "stdout",
          "text": [
            "Escribe un valor 66.6\n",
            "ERROR 66.6\n",
            "Fin del programa 😎\n"
          ]
        }
      ]
    },
    {
      "cell_type": "code",
      "source": [
        "val=float(input(\"Escribe un valor \"))\n",
        "\n",
        "if val == 0:\n",
        "  print(\"Es igual a cero \",val)\n",
        "\n",
        "else:\n",
        "\n",
        "  if val >0:\n",
        "    print(\"Es positivo \",val)\n",
        "  else:\n",
        "    print(\"Es negativo \",val)\n",
        "\n",
        "print(\"Fin del programa 😎\");"
      ],
      "metadata": {
        "colab": {
          "base_uri": "https://localhost:8080/"
        },
        "id": "2p0hsguah5cI",
        "outputId": "d73cb0b1-3a0c-4bff-882c-580c6cd8bd6b"
      },
      "execution_count": null,
      "outputs": [
        {
          "output_type": "stream",
          "name": "stdout",
          "text": [
            "Escribe un valor -111\n",
            "Es negativo  -111.0\n",
            "Fin del programa 😎\n"
          ]
        }
      ]
    },
    {
      "cell_type": "code",
      "source": [
        "val=float(input(\"Escribe un valor \"))\n",
        "print(val%1)"
      ],
      "metadata": {
        "colab": {
          "base_uri": "https://localhost:8080/"
        },
        "id": "-AkX2CfUd4dh",
        "outputId": "074c27cd-9d79-43b8-f637-e0c51910d94a"
      },
      "execution_count": null,
      "outputs": [
        {
          "output_type": "stream",
          "name": "stdout",
          "text": [
            "Escribe un valor 2\n",
            "0.0\n"
          ]
        }
      ]
    },
    {
      "cell_type": "markdown",
      "source": [
        "Disene y codifique en python un programa que lea 5 valores de tipo flotante.Antes del calculo de la formula magica se debe validar que no existe ningun cero en los valores introducidos por el usuario.\n",
        "\n",
        "\n",
        "$$\n",
        "\\left( \\frac{a^2 + b^2 + c^2}{(d - 1) + (e - 2)} \\right)^{0.5}\n",
        "$$\n",
        "\n",
        "\n",
        "\n",
        "\n"
      ],
      "metadata": {
        "id": "HLwmXgssjNk_"
      }
    },
    {
      "cell_type": "code",
      "source": [
        "a=float(input(\"Escribe a \") )\n",
        "b=float(input(\"Escribe b \") )\n",
        "c=float(input(\"Escribe c \") )\n",
        "d=float(input(\"Escribe d \") )\n",
        "e=float(input(\"Escribe e \") )\n",
        "if (a*b*c*d*e) != 0 :\n",
        "  res=(  (a**2+b**2+c**2)/( (d-1)+ (e-2) ) )**0.5\n",
        "  print(\"El resultado es\",res)\n",
        "else:\n",
        "  print(\"Existe un valor es igual a 0 en las entradas de la formula \")\n",
        "\n",
        "print(\"Fin del programa 😎\")"
      ],
      "metadata": {
        "id": "rkuyPAXuGmHx",
        "colab": {
          "base_uri": "https://localhost:8080/"
        },
        "outputId": "0bceabc6-eb20-41c7-9dd1-9b82fa5d5ace"
      },
      "execution_count": null,
      "outputs": [
        {
          "output_type": "stream",
          "name": "stdout",
          "text": [
            "Escribe a 1\n",
            "Escribe b 2\n",
            "Escribe c 3\n",
            "Escribe d 4\n",
            "Escribe e 5\n",
            "El resultado es 1.5275252316519468\n",
            "Fin del programa 😎\n"
          ]
        }
      ]
    },
    {
      "cell_type": "markdown",
      "source": [
        "Diseñe y codifique en python 3 un algoritmo que me indique mediante texto si soy mayor de edad y en caso de que no lo sea me indique cuantos años me faltan para la mayoria de edad."
      ],
      "metadata": {
        "id": "HSFOisgZJbQW"
      }
    },
    {
      "cell_type": "code",
      "source": [
        "edad=float(input(\"Escribe tu edad \"))\n",
        "\n",
        "if edad >=18:\n",
        "  print(\"Eres mayor de edad ya puedes tramitar tu INE\")\n",
        "else:\n",
        "  dif=18-edad\n",
        "  #print(\"No lo eres, te faltan\",dif)\n",
        "  print(f\"Tu edad actual es {edad}\")\n",
        "  print(f\"No eres mayor de edad, te faltan {dif} todavia\")\n",
        "\n",
        "print(\"Fin del programa \")"
      ],
      "metadata": {
        "colab": {
          "base_uri": "https://localhost:8080/"
        },
        "id": "BZm0wUyoJNMO",
        "outputId": "b19e9481-b7d2-4c1b-f68b-690df9897269"
      },
      "execution_count": null,
      "outputs": [
        {
          "output_type": "stream",
          "name": "stdout",
          "text": [
            "Escribe tu edad 11\n",
            "Tu edad actual es 11.0\n",
            "No eres mayor de edad, te faltan 7.0 todavia\n",
            "Fin del programa \n"
          ]
        }
      ]
    },
    {
      "cell_type": "code",
      "source": [
        "dat=11\n",
        "\n",
        "if dat%2 == 0:\n",
        "  print(\"Es par\")\n",
        "else:\n",
        "  print(\"Es impar\")"
      ],
      "metadata": {
        "colab": {
          "base_uri": "https://localhost:8080/"
        },
        "id": "9B2HhYM3lV7F",
        "outputId": "d2d41987-8a86-461e-9d49-8c6978d361e2"
      },
      "execution_count": null,
      "outputs": [
        {
          "output_type": "stream",
          "name": "stdout",
          "text": [
            "Es impar\n"
          ]
        }
      ]
    },
    {
      "cell_type": "code",
      "source": [
        "a,b,c,=1,2,3\n",
        "print(\"El mayor es \",max(a,b,c))"
      ],
      "metadata": {
        "colab": {
          "base_uri": "https://localhost:8080/"
        },
        "id": "9ETDvdR-mY1Y",
        "outputId": "8a44ab24-10b6-453f-dcc6-5bc9d5f67395"
      },
      "execution_count": null,
      "outputs": [
        {
          "output_type": "stream",
          "name": "stdout",
          "text": [
            "El mayor es  3\n"
          ]
        }
      ]
    },
    {
      "cell_type": "code",
      "source": [
        "a,b,c,=1,2,3\n",
        "print(\"El min es \",max(a,b,c))"
      ],
      "metadata": {
        "colab": {
          "base_uri": "https://localhost:8080/"
        },
        "id": "5coKkYD-mjhm",
        "outputId": "597c166d-8e59-4ef4-9884-3107124dc581"
      },
      "execution_count": null,
      "outputs": [
        {
          "output_type": "stream",
          "name": "stdout",
          "text": [
            "El min es  3\n"
          ]
        }
      ]
    },
    {
      "cell_type": "code",
      "source": [
        "a,b,c,=1,2,3\n",
        "if a>b and a>c:\n",
        "  print(\"A es el mayor\")\n",
        "else:\n",
        "  if b>a and b>c:\n",
        "    print(\"B es el mayor\")\n",
        "  else:\n",
        "    print(\"C es el mayor\")\n",
        "\n",
        "print(\"Fin del prog\")\n"
      ],
      "metadata": {
        "colab": {
          "base_uri": "https://localhost:8080/"
        },
        "id": "wIq-OEfwmmyJ",
        "outputId": "caa7ae02-774a-4fda-8097-55438bc22bf6"
      },
      "execution_count": null,
      "outputs": [
        {
          "output_type": "stream",
          "name": "stdout",
          "text": [
            "C es el mayor\n",
            "Fin del prog\n"
          ]
        }
      ]
    }
  ]
}