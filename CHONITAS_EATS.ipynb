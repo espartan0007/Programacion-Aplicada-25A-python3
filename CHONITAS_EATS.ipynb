{
  "nbformat": 4,
  "nbformat_minor": 0,
  "metadata": {
    "colab": {
      "provenance": [],
      "authorship_tag": "ABX9TyOAWjolAGSXv+bFVmZ5FnVW",
      "include_colab_link": true
    },
    "kernelspec": {
      "name": "python3",
      "display_name": "Python 3"
    },
    "language_info": {
      "name": "python"
    }
  },
  "cells": [
    {
      "cell_type": "markdown",
      "metadata": {
        "id": "view-in-github",
        "colab_type": "text"
      },
      "source": [
        "<a href=\"https://colab.research.google.com/github/espartan0007/Programacion-Aplicada-25A-python3/blob/main/CHONITAS_EATS.ipynb\" target=\"_parent\"><img src=\"https://colab.research.google.com/assets/colab-badge.svg\" alt=\"Open In Colab\"/></a>"
      ]
    },
    {
      "cell_type": "code",
      "execution_count": null,
      "metadata": {
        "colab": {
          "base_uri": "https://localhost:8080/"
        },
        "id": "kTWSbAluqPm-",
        "outputId": "e6b56d32-c2b9-4fd7-c092-6acb000a2977"
      },
      "outputs": [
        {
          "output_type": "stream",
          "name": "stdout",
          "text": [
            "\n",
            "BIENVENIDO A:\n",
            "\n",
            "       ██████╗██╗  ██╗ ██████╗ ███╗   ██╗██╗████████╗ █████╗ ███████╗    ███████╗ █████╗ ████████╗███████╗          \n",
            "      ██╔════╝██║  ██║██╔═══██╗████╗  ██║██║╚══██╔══╝██╔══██╗██╔════╝    ██╔════╝██╔══██╗╚══██╔══╝██╔════╝          \n",
            "█████╗██║     ███████║██║   ██║██╔██╗ ██║██║   ██║   ███████║███████╗    █████╗  ███████║   ██║   ███████╗█████╗    \n",
            "╚════╝██║     ██╔══██║██║   ██║██║╚██╗██║██║   ██║   ██╔══██║╚════██║    ██╔══╝  ██╔══██║   ██║   ╚════██║╚════╝    \n",
            "      ╚██████╗██║  ██║╚██████╔╝██║ ╚████║██║   ██║   ██║  ██║███████║    ███████╗██║  ██║   ██║   ███████║          \n",
            "       ╚═════╝╚═╝  ╚═╝ ╚═════╝ ╚═╝  ╚═══╝╚═╝   ╚═╝   ╚═╝  ╚═╝╚══════╝    ╚══════╝╚═╝  ╚═╝   ╚═╝   ╚══════╝          \n",
            "                                                                                                                            \n",
            "                                                                                                                    \n",
            "\n"
          ]
        }
      ],
      "source": [
        "#LINK : https://patorjk.com/software/taag/#p=display&f=Graffiti&t=Type%20Something%20\n",
        "title=\"\"\"\n",
        "BIENVENIDO A:\n",
        "\n",
        "       ██████╗██╗  ██╗ ██████╗ ███╗   ██╗██╗████████╗ █████╗ ███████╗    ███████╗ █████╗ ████████╗███████╗\n",
        "      ██╔════╝██║  ██║██╔═══██╗████╗  ██║██║╚══██╔══╝██╔══██╗██╔════╝    ██╔════╝██╔══██╗╚══██╔══╝██╔════╝\n",
        "█████╗██║     ███████║██║   ██║██╔██╗ ██║██║   ██║   ███████║███████╗    █████╗  ███████║   ██║   ███████╗█████╗\n",
        "╚════╝██║     ██╔══██║██║   ██║██║╚██╗██║██║   ██║   ██╔══██║╚════██║    ██╔══╝  ██╔══██║   ██║   ╚════██║╚════╝\n",
        "      ╚██████╗██║  ██║╚██████╔╝██║ ╚████║██║   ██║   ██║  ██║███████║    ███████╗██║  ██║   ██║   ███████║\n",
        "       ╚═════╝╚═╝  ╚═╝ ╚═════╝ ╚═╝  ╚═══╝╚═╝   ╚═╝   ╚═╝  ╚═╝╚══════╝    ╚══════╝╚═╝  ╚═╝   ╚═╝   ╚══════╝\n",
        "\n",
        "\n",
        "\"\"\"\n",
        "\n",
        "print(title)"
      ]
    }
  ]
}